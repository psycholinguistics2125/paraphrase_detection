{
 "cells": [
  {
   "cell_type": "code",
   "execution_count": 1,
   "id": "8bf38eea",
   "metadata": {},
   "outputs": [
    {
     "name": "stderr",
     "output_type": "stream",
     "text": [
      "[nltk_data] Downloading package punkt to /home/robin/nltk_data...\n",
      "[nltk_data]   Package punkt is already up-to-date!\n"
     ]
    }
   ],
   "source": [
    "# Enable autoreloading of modules\n",
    "%load_ext autoreload\n",
    "%autoreload 2\n",
    "\n",
    "# Suppress warnings\n",
    "import warnings\n",
    "warnings.filterwarnings('ignore')\n",
    "\n",
    "# Standard imports\n",
    "import os\n",
    "import sys\n",
    "import random\n",
    "\n",
    "# Data manipulation and analysis\n",
    "import numpy as np\n",
    "import pandas as pd\n",
    "\n",
    "# Visualization libraries\n",
    "import seaborn as sns\n",
    "import matplotlib.pyplot as plt\n",
    "\n",
    "\n",
    "\n",
    "\n",
    "# Custom utilities\n",
    "sys.path.append('../')\n",
    "from src.utils import load_config, split_into_sentences, flatten_list, load_and_clean_data\n",
    "from src import stats_analysis as sa\n",
    "from src.data_cleaning import add_average_data\n",
    "from src.ml_utils import train_and_evaluate_rf, train_and_evaluate_xgb, filter_dataset\n",
    "\n"
   ]
  },
  {
   "cell_type": "code",
   "execution_count": 2,
   "id": "d6bad04a",
   "metadata": {},
   "outputs": [
    {
     "name": "stdout",
     "output_type": "stream",
     "text": [
      "Data contains at the begining : 18039\n",
      "Filtering data with more than 20 sentences and less than 5 sentences. 18039 samples left\n",
      "Filtering data with phone numbers. 18039 samples left\n",
      "Filtering data with addresses. 18039 samples left\n",
      "Filtering data with mail addresses. 18039 samples left\n",
      "Filtering data with list. 18039 samples left\n",
      "Filtering data with short paraphrase. 18039 samples left\n",
      "Filtering data with paraphrase at the end. 18039 samples left\n",
      "temperature_enc\n",
      "medium_temperature    6416\n",
      "low_temperature       6191\n",
      "high_temperature      5432\n",
      "Name: count, dtype: int64\n",
      "has_paraphrase\n",
      "0    9375\n",
      "1    8664\n",
      "Name: count, dtype: int64\n"
     ]
    }
   ],
   "source": [
    "config = load_config('../config.yaml')\n",
    "data = load_and_clean_data(config)\n",
    "data = add_average_data(data)\n",
    "print(data.temperature_enc.value_counts())\n",
    "print(data.has_paraphrase.value_counts())"
   ]
  },
  {
   "cell_type": "code",
   "execution_count": null,
   "id": "d722dfde",
   "metadata": {},
   "outputs": [],
   "source": [
    "dataset = data[data.temperature_enc.isin([\"low_temperature\",\"medium_temperature\"])]"
   ]
  },
  {
   "cell_type": "code",
   "execution_count": 4,
   "id": "8325984b",
   "metadata": {},
   "outputs": [
    {
     "name": "stderr",
     "output_type": "stream",
     "text": [
      "[nltk_data] Downloading package punkt to /home/robin/nltk_data...\n",
      "[nltk_data]   Package punkt is already up-to-date!\n"
     ]
    }
   ],
   "source": [
    "import nltk\n",
    "import re\n",
    "nltk.download(\"punkt\")\n",
    "\n",
    "def fix_sentence_spacing(text: str) -> str:\n",
    "    \"\"\"\n",
    "    Ensure there is a space after punctuation like '.', '!', '?'\n",
    "    \"\"\"\n",
    "    # Add a space after '.', '!', '?' if not followed by space\n",
    "    text = re.sub(r'([.!?])([^\\s])', r'\\1 \\2', text)\n",
    "    return text\n",
    "\n",
    "def clean_sentences_nltk(text: str) -> str:\n",
    "    \"\"\"\n",
    "    Fix punctuation spacing and tokenize sentences with NLTK.\n",
    "    \"\"\"\n",
    "    text = fix_sentence_spacing(text)\n",
    "    sentences = nltk.sent_tokenize(text)\n",
    "    return \" \".join(sentences)\n",
    "# Apply to dataframe\n",
    "dataset[\"altered_text_clean\"] = dataset[\"altered_text\"].apply(clean_sentences_nltk)"
   ]
  },
  {
   "cell_type": "code",
   "execution_count": 5,
   "id": "d09add5b",
   "metadata": {},
   "outputs": [],
   "source": [
    "import pandas as pd\n",
    "import subprocess\n",
    "import tempfile\n",
    "import os\n",
    "import time\n",
    "from tqdm import tqdm\n",
    "\n",
    "import os\n",
    "import shlex\n",
    "import time\n",
    "import glob\n",
    "import tempfile\n",
    "import subprocess\n",
    "import pandas as pd\n",
    "from tqdm import tqdm\n",
    "\n",
    "def run_neosca_batch_per_textfile(\n",
    "    data: pd.DataFrame,\n",
    "    text_column: str = \"altered_text_clean\",\n",
    "    batch_size: int = 100,\n",
    "    output_dir: str = \"neosca_batches\",\n",
    "    java_mem: str = \"8g\",          # increase if needed (e.g., \"8g\")\n",
    "    newline_break: str = \"always\", # \"never\" | \"always\" | \"two\"\n",
    "    strict: bool = True,           # if True, raise on length mismatch\n",
    ") -> pd.DataFrame:\n",
    "    \"\"\"\n",
    "    Run NeoSCA in batches with ONE FILE PER TEXT so the output is 1 row per text.\n",
    "\n",
    "    - Resumable: each batch writes a CSV in `output_dir`, and re-runs skip finished batches.\n",
    "    - Fast: single JVM init per batch.\n",
    "    - Safe: strict alignment (1 row per input file), with optional strict mode.\n",
    "\n",
    "    Returns\n",
    "    -------\n",
    "    pd.DataFrame with all NeoSCA features, aligned 1:1 with input df rows.\n",
    "    \"\"\"\n",
    "\n",
    "    os.makedirs(output_dir, exist_ok=True)\n",
    "    df = data.copy()\n",
    "    df = df.reset_index(drop=True).copy()\n",
    "    n = len(df)\n",
    "\n",
    "    # For ETA\n",
    "    times = []\n",
    "    total_batches = (n + batch_size - 1) // batch_size\n",
    "\n",
    "    # Prepare base env (more Java heap)\n",
    "    env = os.environ.copy()\n",
    "    if java_mem:\n",
    "        env[\"NSCA_JAVA_OPTS\"] = f\"-Xmx{java_mem}\"\n",
    "\n",
    "    all_parts = []\n",
    "\n",
    "    for start in tqdm(range(0, n, batch_size), desc=\"Processing batches\"):\n",
    "        end = min(start + batch_size, n)\n",
    "        batch_idx = start // batch_size\n",
    "        out_csv = os.path.join(output_dir, f\"neosca_batch_{batch_idx}.csv\")\n",
    "\n",
    "        # Skip if already done\n",
    "        if os.path.exists(out_csv):\n",
    "            # Read and keep\n",
    "            try:\n",
    "                part = pd.read_csv(out_csv)\n",
    "                if strict and len(part) != (end - start):\n",
    "                    raise ValueError(\n",
    "                        f\"[Strict] Saved batch {batch_idx} rows ({len(part)}) \"\n",
    "                        f\"!= number of texts ({end - start}).\"\n",
    "                    )\n",
    "                all_parts.append(part)\n",
    "                continue\n",
    "            except Exception:\n",
    "                # if corrupt, we’ll recompute\n",
    "                pass\n",
    "\n",
    "        t0 = time.time()\n",
    "\n",
    "        # Create a temp dir with one file per text\n",
    "        tmp_dir = tempfile.mkdtemp(prefix=f\"neosca_batch_{batch_idx}_\")\n",
    "        file_paths = []\n",
    "        for i, text in enumerate(df[text_column].iloc[start:end].astype(str), 1):\n",
    "            # each text -> file\n",
    "            p = os.path.join(tmp_dir, f\"doc_{i:05d}.txt\")\n",
    "            # You can also ensure spacing cleanup here if needed\n",
    "            with open(p, \"w\", encoding=\"utf-8\") as f:\n",
    "                f.write(text.strip() + \"\\n\")\n",
    "            file_paths.append(p)\n",
    "\n",
    "        # Build command: nsca <file1> <file2> ...  --output-file out.csv ...\n",
    "        file_args = \" \".join(shlex.quote(p) for p in file_paths)\n",
    "        cmd = f\"nsca {file_args} --output-file {shlex.quote(out_csv)} --output-format csv\"\n",
    "        if newline_break:\n",
    "            cmd += f\" --newline-break {newline_break}\"\n",
    "\n",
    "        try:\n",
    "            subprocess.run(cmd, shell=True, check=True, capture_output=True, env=env)\n",
    "\n",
    "            # Read the batch output\n",
    "            part = pd.read_csv(out_csv)\n",
    "\n",
    "            # STRICT alignment: NeoSCA should output one row per input file in order\n",
    "            if strict and len(part) != (end - start):\n",
    "                raise ValueError(\n",
    "                    f\"[Strict] NeoSCA returned {len(part)} rows but batch has {end - start} texts.\"\n",
    "                )\n",
    "\n",
    "            # Attach original text column for convenience\n",
    "            part.insert(0, text_column, df[text_column].iloc[start:end].values[:len(part)])\n",
    "\n",
    "            # Overwrite the batch CSV including the text column (handy for resume)\n",
    "            part.to_csv(out_csv, index=False)\n",
    "            all_parts.append(part)\n",
    "\n",
    "        except subprocess.CalledProcessError as e:\n",
    "            # If NeoSCA fails for this batch, print stderr for debugging\n",
    "            print(f\"❌ NeoSCA error (batch {batch_idx+1}/{total_batches}):\\n{e.stderr.decode('utf-8', 'ignore')}\")\n",
    "            # Optional: remove partial CSV to force re-run later\n",
    "            if os.path.exists(out_csv):\n",
    "                os.remove(out_csv)\n",
    "            # Re-raise if you want hard fail; else continue to next batch\n",
    "            raise\n",
    "        finally:\n",
    "            # Clean temp files\n",
    "            for p in glob.glob(os.path.join(tmp_dir, \"*.txt\")):\n",
    "                try: os.remove(p)\n",
    "                except Exception: pass\n",
    "            try: os.rmdir(tmp_dir)\n",
    "            except Exception: pass\n",
    "\n",
    "        # ETA\n",
    "        elapsed = time.time() - t0\n",
    "        times.append(elapsed)\n",
    "        avg = sum(times) / len(times)\n",
    "        remaining = total_batches - (batch_idx + 1)\n",
    "        eta_min = (remaining * avg) / 60\n",
    "        print(f\"✅ batch {batch_idx+1}/{total_batches} in {elapsed:.1f}s | ETA ~ {eta_min:.1f} min\")\n",
    "\n",
    "    # Merge all parts (keeps the order by construction)\n",
    "    if not all_parts:\n",
    "        return pd.DataFrame()\n",
    "\n",
    "    result = pd.concat(all_parts, ignore_index=True)\n",
    "\n",
    "    # Final strict safety check: one row per input text\n",
    "    if strict and len(result) != n:\n",
    "        raise ValueError(\n",
    "            f\"[Strict] Final rows ({len(result)}) != input texts ({n}). \"\n",
    "            f\"Check if some batches failed or if parser dropped rows.\"\n",
    "        )\n",
    "\n",
    "    # Align exactly 1:1 with input df by position\n",
    "    result = result.iloc[:n].reset_index(drop=True)\n",
    "    result[text_column] = df[text_column].values[:len(result)]\n",
    "\n",
    "    return result\n"
   ]
  },
  {
   "cell_type": "code",
   "execution_count": 6,
   "id": "c33530b0",
   "metadata": {},
   "outputs": [
    {
     "name": "stderr",
     "output_type": "stream",
     "text": [
      "Processing batches:   1%|          | 1/85 [02:27<3:26:31, 147.52s/it]"
     ]
    },
    {
     "name": "stdout",
     "output_type": "stream",
     "text": [
      "✅ batch 1/85 in 147.5s | ETA ~ 206.5 min\n"
     ]
    },
    {
     "name": "stderr",
     "output_type": "stream",
     "text": [
      "Processing batches:   2%|▏         | 2/85 [05:15<3:40:36, 159.47s/it]"
     ]
    },
    {
     "name": "stdout",
     "output_type": "stream",
     "text": [
      "✅ batch 2/85 in 167.8s | ETA ~ 218.1 min\n"
     ]
    },
    {
     "name": "stderr",
     "output_type": "stream",
     "text": [
      "Processing batches:   4%|▎         | 3/85 [08:49<4:12:02, 184.42s/it]"
     ]
    },
    {
     "name": "stdout",
     "output_type": "stream",
     "text": [
      "✅ batch 3/85 in 214.1s | ETA ~ 241.2 min\n"
     ]
    },
    {
     "name": "stderr",
     "output_type": "stream",
     "text": [
      "Processing batches:   5%|▍         | 4/85 [12:02<4:13:45, 187.97s/it]"
     ]
    },
    {
     "name": "stdout",
     "output_type": "stream",
     "text": [
      "✅ batch 4/85 in 193.4s | ETA ~ 244.0 min\n"
     ]
    },
    {
     "name": "stderr",
     "output_type": "stream",
     "text": [
      "Processing batches:   6%|▌         | 5/85 [14:39<3:55:43, 176.80s/it]"
     ]
    },
    {
     "name": "stdout",
     "output_type": "stream",
     "text": [
      "✅ batch 5/85 in 157.0s | ETA ~ 234.6 min\n"
     ]
    },
    {
     "name": "stderr",
     "output_type": "stream",
     "text": [
      "Processing batches:   7%|▋         | 6/85 [17:06<3:39:15, 166.52s/it]"
     ]
    },
    {
     "name": "stdout",
     "output_type": "stream",
     "text": [
      "✅ batch 6/85 in 146.6s | ETA ~ 225.2 min\n"
     ]
    },
    {
     "name": "stderr",
     "output_type": "stream",
     "text": [
      "Processing batches:   8%|▊         | 7/85 [19:41<3:31:28, 162.68s/it]"
     ]
    },
    {
     "name": "stdout",
     "output_type": "stream",
     "text": [
      "✅ batch 7/85 in 154.8s | ETA ~ 219.4 min\n"
     ]
    },
    {
     "name": "stderr",
     "output_type": "stream",
     "text": [
      "Processing batches:   9%|▉         | 8/85 [21:51<3:15:38, 152.45s/it]"
     ]
    },
    {
     "name": "stdout",
     "output_type": "stream",
     "text": [
      "✅ batch 8/85 in 130.6s | ETA ~ 210.4 min\n"
     ]
    },
    {
     "name": "stderr",
     "output_type": "stream",
     "text": [
      "Processing batches:  11%|█         | 9/85 [24:14<3:09:03, 149.26s/it]"
     ]
    },
    {
     "name": "stdout",
     "output_type": "stream",
     "text": [
      "✅ batch 9/85 in 142.2s | ETA ~ 204.6 min\n"
     ]
    },
    {
     "name": "stderr",
     "output_type": "stream",
     "text": [
      "Processing batches:  12%|█▏        | 10/85 [26:56<3:11:46, 153.42s/it]"
     ]
    },
    {
     "name": "stdout",
     "output_type": "stream",
     "text": [
      "✅ batch 10/85 in 162.7s | ETA ~ 202.1 min\n"
     ]
    },
    {
     "name": "stderr",
     "output_type": "stream",
     "text": [
      "Processing batches:  13%|█▎        | 11/85 [30:17<3:26:56, 167.79s/it]"
     ]
    },
    {
     "name": "stdout",
     "output_type": "stream",
     "text": [
      "✅ batch 11/85 in 200.4s | ETA ~ 203.7 min\n"
     ]
    },
    {
     "name": "stderr",
     "output_type": "stream",
     "text": [
      "Processing batches:  14%|█▍        | 12/85 [34:02<3:45:36, 185.43s/it]"
     ]
    },
    {
     "name": "stdout",
     "output_type": "stream",
     "text": [
      "✅ batch 12/85 in 225.8s | ETA ~ 207.1 min\n"
     ]
    },
    {
     "name": "stderr",
     "output_type": "stream",
     "text": [
      "Processing batches:  15%|█▌        | 13/85 [37:33<3:51:45, 193.13s/it]"
     ]
    },
    {
     "name": "stdout",
     "output_type": "stream",
     "text": [
      "✅ batch 13/85 in 210.8s | ETA ~ 208.0 min\n"
     ]
    },
    {
     "name": "stderr",
     "output_type": "stream",
     "text": [
      "Processing batches:  16%|█▋        | 14/85 [40:55<3:51:41, 195.79s/it]"
     ]
    },
    {
     "name": "stdout",
     "output_type": "stream",
     "text": [
      "✅ batch 14/85 in 202.0s | ETA ~ 207.6 min\n"
     ]
    },
    {
     "name": "stderr",
     "output_type": "stream",
     "text": [
      "Processing batches:  18%|█▊        | 15/85 [44:12<3:48:46, 196.10s/it]"
     ]
    },
    {
     "name": "stdout",
     "output_type": "stream",
     "text": [
      "✅ batch 15/85 in 196.8s | ETA ~ 206.3 min\n"
     ]
    },
    {
     "name": "stderr",
     "output_type": "stream",
     "text": [
      "Processing batches:  19%|█▉        | 16/85 [47:33<3:47:04, 197.46s/it]"
     ]
    },
    {
     "name": "stdout",
     "output_type": "stream",
     "text": [
      "✅ batch 16/85 in 200.6s | ETA ~ 205.1 min\n"
     ]
    },
    {
     "name": "stderr",
     "output_type": "stream",
     "text": [
      "Processing batches:  20%|██        | 17/85 [51:09<3:50:07, 203.06s/it]"
     ]
    },
    {
     "name": "stdout",
     "output_type": "stream",
     "text": [
      "✅ batch 17/85 in 216.1s | ETA ~ 204.6 min\n"
     ]
    },
    {
     "name": "stderr",
     "output_type": "stream",
     "text": [
      "Processing batches:  21%|██        | 18/85 [54:30<3:46:06, 202.48s/it]"
     ]
    },
    {
     "name": "stdout",
     "output_type": "stream",
     "text": [
      "✅ batch 18/85 in 201.1s | ETA ~ 202.9 min\n"
     ]
    },
    {
     "name": "stderr",
     "output_type": "stream",
     "text": [
      "Processing batches:  22%|██▏       | 19/85 [56:44<3:20:02, 181.86s/it]"
     ]
    },
    {
     "name": "stdout",
     "output_type": "stream",
     "text": [
      "✅ batch 19/85 in 133.8s | ETA ~ 197.1 min\n"
     ]
    },
    {
     "name": "stderr",
     "output_type": "stream",
     "text": [
      "Processing batches:  24%|██▎       | 20/85 [59:21<3:08:56, 174.41s/it]"
     ]
    },
    {
     "name": "stdout",
     "output_type": "stream",
     "text": [
      "✅ batch 20/85 in 157.1s | ETA ~ 192.9 min\n"
     ]
    },
    {
     "name": "stderr",
     "output_type": "stream",
     "text": [
      "Processing batches:  25%|██▍       | 21/85 [1:02:46<3:15:59, 183.74s/it]"
     ]
    },
    {
     "name": "stdout",
     "output_type": "stream",
     "text": [
      "✅ batch 21/85 in 205.5s | ETA ~ 191.3 min\n"
     ]
    },
    {
     "name": "stderr",
     "output_type": "stream",
     "text": [
      "Processing batches:  26%|██▌       | 22/85 [1:05:35<3:08:12, 179.24s/it]"
     ]
    },
    {
     "name": "stdout",
     "output_type": "stream",
     "text": [
      "✅ batch 22/85 in 168.8s | ETA ~ 187.8 min\n"
     ]
    },
    {
     "name": "stderr",
     "output_type": "stream",
     "text": [
      "Processing batches:  27%|██▋       | 23/85 [1:07:53<2:52:31, 166.97s/it]"
     ]
    },
    {
     "name": "stdout",
     "output_type": "stream",
     "text": [
      "✅ batch 23/85 in 138.3s | ETA ~ 183.0 min\n"
     ]
    },
    {
     "name": "stderr",
     "output_type": "stream",
     "text": [
      "Processing batches:  28%|██▊       | 24/85 [1:10:08<2:39:55, 157.31s/it]"
     ]
    },
    {
     "name": "stdout",
     "output_type": "stream",
     "text": [
      "✅ batch 24/85 in 134.8s | ETA ~ 178.3 min\n"
     ]
    },
    {
     "name": "stderr",
     "output_type": "stream",
     "text": [
      "Processing batches:  29%|██▉       | 25/85 [1:12:30<2:32:39, 152.65s/it]"
     ]
    },
    {
     "name": "stdout",
     "output_type": "stream",
     "text": [
      "✅ batch 25/85 in 141.8s | ETA ~ 174.0 min\n"
     ]
    },
    {
     "name": "stderr",
     "output_type": "stream",
     "text": [
      "Processing batches:  31%|███       | 26/85 [1:14:34<2:21:47, 144.20s/it]"
     ]
    },
    {
     "name": "stdout",
     "output_type": "stream",
     "text": [
      "✅ batch 26/85 in 124.5s | ETA ~ 169.2 min\n"
     ]
    },
    {
     "name": "stderr",
     "output_type": "stream",
     "text": [
      "Processing batches:  32%|███▏      | 27/85 [1:16:36<2:12:49, 137.41s/it]"
     ]
    },
    {
     "name": "stdout",
     "output_type": "stream",
     "text": [
      "✅ batch 27/85 in 121.6s | ETA ~ 164.6 min\n"
     ]
    },
    {
     "name": "stderr",
     "output_type": "stream",
     "text": [
      "Processing batches:  33%|███▎      | 28/85 [1:18:23<2:01:51, 128.26s/it]"
     ]
    },
    {
     "name": "stdout",
     "output_type": "stream",
     "text": [
      "✅ batch 28/85 in 106.9s | ETA ~ 159.6 min\n"
     ]
    },
    {
     "name": "stderr",
     "output_type": "stream",
     "text": [
      "Processing batches:  34%|███▍      | 29/85 [1:21:20<2:13:18, 142.82s/it]"
     ]
    },
    {
     "name": "stdout",
     "output_type": "stream",
     "text": [
      "✅ batch 29/85 in 176.8s | ETA ~ 157.1 min\n"
     ]
    },
    {
     "name": "stderr",
     "output_type": "stream",
     "text": [
      "Processing batches:  35%|███▌      | 30/85 [1:24:54<2:30:35, 164.27s/it]"
     ]
    },
    {
     "name": "stdout",
     "output_type": "stream",
     "text": [
      "✅ batch 30/85 in 214.3s | ETA ~ 155.7 min\n"
     ]
    },
    {
     "name": "stderr",
     "output_type": "stream",
     "text": [
      "Processing batches:  36%|███▋      | 31/85 [1:28:27<2:40:55, 178.81s/it]"
     ]
    },
    {
     "name": "stdout",
     "output_type": "stream",
     "text": [
      "✅ batch 31/85 in 212.7s | ETA ~ 154.1 min\n"
     ]
    },
    {
     "name": "stderr",
     "output_type": "stream",
     "text": [
      "Processing batches:  38%|███▊      | 32/85 [1:32:06<2:48:42, 190.99s/it]"
     ]
    },
    {
     "name": "stdout",
     "output_type": "stream",
     "text": [
      "✅ batch 32/85 in 219.4s | ETA ~ 152.6 min\n"
     ]
    },
    {
     "name": "stderr",
     "output_type": "stream",
     "text": [
      "Processing batches:  39%|███▉      | 33/85 [1:35:17<2:45:34, 191.04s/it]"
     ]
    },
    {
     "name": "stdout",
     "output_type": "stream",
     "text": [
      "✅ batch 33/85 in 191.2s | ETA ~ 150.2 min\n"
     ]
    },
    {
     "name": "stderr",
     "output_type": "stream",
     "text": [
      "Processing batches:  40%|████      | 34/85 [1:38:38<2:44:58, 194.08s/it]"
     ]
    },
    {
     "name": "stdout",
     "output_type": "stream",
     "text": [
      "✅ batch 34/85 in 201.2s | ETA ~ 148.0 min\n"
     ]
    },
    {
     "name": "stderr",
     "output_type": "stream",
     "text": [
      "Processing batches:  41%|████      | 35/85 [1:41:44<2:39:42, 191.65s/it]"
     ]
    },
    {
     "name": "stdout",
     "output_type": "stream",
     "text": [
      "✅ batch 35/85 in 186.0s | ETA ~ 145.4 min\n"
     ]
    },
    {
     "name": "stderr",
     "output_type": "stream",
     "text": [
      "Processing batches:  42%|████▏     | 36/85 [1:44:35<2:31:14, 185.20s/it]"
     ]
    },
    {
     "name": "stdout",
     "output_type": "stream",
     "text": [
      "✅ batch 36/85 in 170.1s | ETA ~ 142.3 min\n"
     ]
    },
    {
     "name": "stderr",
     "output_type": "stream",
     "text": [
      "Processing batches:  44%|████▎     | 37/85 [1:46:47<2:15:35, 169.48s/it]"
     ]
    },
    {
     "name": "stdout",
     "output_type": "stream",
     "text": [
      "✅ batch 37/85 in 132.8s | ETA ~ 138.5 min\n"
     ]
    },
    {
     "name": "stderr",
     "output_type": "stream",
     "text": [
      "Processing batches:  45%|████▍     | 38/85 [1:50:00<2:18:14, 176.48s/it]"
     ]
    },
    {
     "name": "stdout",
     "output_type": "stream",
     "text": [
      "✅ batch 38/85 in 192.8s | ETA ~ 136.1 min\n"
     ]
    },
    {
     "name": "stderr",
     "output_type": "stream",
     "text": [
      "Processing batches:  46%|████▌     | 39/85 [1:53:21<2:20:51, 183.74s/it]"
     ]
    },
    {
     "name": "stdout",
     "output_type": "stream",
     "text": [
      "✅ batch 39/85 in 200.7s | ETA ~ 133.7 min\n"
     ]
    },
    {
     "name": "stderr",
     "output_type": "stream",
     "text": [
      "Processing batches:  47%|████▋     | 40/85 [1:56:08<2:14:11, 178.92s/it]"
     ]
    },
    {
     "name": "stdout",
     "output_type": "stream",
     "text": [
      "✅ batch 40/85 in 167.7s | ETA ~ 130.7 min\n"
     ]
    },
    {
     "name": "stderr",
     "output_type": "stream",
     "text": [
      "Processing batches:  48%|████▊     | 41/85 [1:58:35<2:04:03, 169.18s/it]"
     ]
    },
    {
     "name": "stdout",
     "output_type": "stream",
     "text": [
      "✅ batch 41/85 in 146.5s | ETA ~ 127.3 min\n"
     ]
    },
    {
     "name": "stderr",
     "output_type": "stream",
     "text": [
      "Processing batches:  49%|████▉     | 42/85 [2:00:56<1:55:12, 160.76s/it]"
     ]
    },
    {
     "name": "stdout",
     "output_type": "stream",
     "text": [
      "✅ batch 42/85 in 141.1s | ETA ~ 123.8 min\n"
     ]
    },
    {
     "name": "stderr",
     "output_type": "stream",
     "text": [
      "Processing batches:  51%|█████     | 43/85 [2:03:36<1:52:22, 160.53s/it]"
     ]
    },
    {
     "name": "stdout",
     "output_type": "stream",
     "text": [
      "✅ batch 43/85 in 160.0s | ETA ~ 120.7 min\n"
     ]
    },
    {
     "name": "stderr",
     "output_type": "stream",
     "text": [
      "Processing batches:  52%|█████▏    | 44/85 [2:05:59<1:46:09, 155.34s/it]"
     ]
    },
    {
     "name": "stdout",
     "output_type": "stream",
     "text": [
      "✅ batch 44/85 in 143.2s | ETA ~ 117.4 min\n"
     ]
    },
    {
     "name": "stderr",
     "output_type": "stream",
     "text": [
      "Processing batches:  53%|█████▎    | 45/85 [2:08:32<1:43:06, 154.66s/it]"
     ]
    },
    {
     "name": "stdout",
     "output_type": "stream",
     "text": [
      "✅ batch 45/85 in 153.1s | ETA ~ 114.3 min\n"
     ]
    },
    {
     "name": "stderr",
     "output_type": "stream",
     "text": [
      "Processing batches:  54%|█████▍    | 46/85 [2:11:01<1:39:21, 152.85s/it]"
     ]
    },
    {
     "name": "stdout",
     "output_type": "stream",
     "text": [
      "✅ batch 46/85 in 148.6s | ETA ~ 111.1 min\n"
     ]
    },
    {
     "name": "stderr",
     "output_type": "stream",
     "text": [
      "Processing batches:  55%|█████▌    | 47/85 [2:13:21<1:34:17, 148.88s/it]"
     ]
    },
    {
     "name": "stdout",
     "output_type": "stream",
     "text": [
      "✅ batch 47/85 in 139.6s | ETA ~ 107.8 min\n"
     ]
    },
    {
     "name": "stderr",
     "output_type": "stream",
     "text": [
      "Processing batches:  56%|█████▋    | 48/85 [2:16:01<1:33:59, 152.41s/it]"
     ]
    },
    {
     "name": "stdout",
     "output_type": "stream",
     "text": [
      "✅ batch 48/85 in 160.7s | ETA ~ 104.9 min\n"
     ]
    },
    {
     "name": "stderr",
     "output_type": "stream",
     "text": [
      "Processing batches:  58%|█████▊    | 49/85 [2:18:22<1:29:18, 148.84s/it]"
     ]
    },
    {
     "name": "stdout",
     "output_type": "stream",
     "text": [
      "✅ batch 49/85 in 140.5s | ETA ~ 101.7 min\n"
     ]
    },
    {
     "name": "stderr",
     "output_type": "stream",
     "text": [
      "Processing batches:  59%|█████▉    | 50/85 [2:21:28<1:33:23, 160.10s/it]"
     ]
    },
    {
     "name": "stdout",
     "output_type": "stream",
     "text": [
      "✅ batch 50/85 in 186.4s | ETA ~ 99.0 min\n"
     ]
    },
    {
     "name": "stderr",
     "output_type": "stream",
     "text": [
      "Processing batches:  60%|██████    | 51/85 [2:24:44<1:36:47, 170.82s/it]"
     ]
    },
    {
     "name": "stdout",
     "output_type": "stream",
     "text": [
      "✅ batch 51/85 in 195.8s | ETA ~ 96.5 min\n"
     ]
    },
    {
     "name": "stderr",
     "output_type": "stream",
     "text": [
      "Processing batches:  61%|██████    | 52/85 [2:28:10<1:39:49, 181.50s/it]"
     ]
    },
    {
     "name": "stdout",
     "output_type": "stream",
     "text": [
      "✅ batch 52/85 in 206.4s | ETA ~ 94.0 min\n"
     ]
    },
    {
     "name": "stderr",
     "output_type": "stream",
     "text": [
      "Processing batches:  62%|██████▏   | 53/85 [2:31:37<1:40:49, 189.04s/it]"
     ]
    },
    {
     "name": "stdout",
     "output_type": "stream",
     "text": [
      "✅ batch 53/85 in 206.6s | ETA ~ 91.5 min\n"
     ]
    },
    {
     "name": "stderr",
     "output_type": "stream",
     "text": [
      "Processing batches:  64%|██████▎   | 54/85 [2:35:01<1:39:59, 193.53s/it]"
     ]
    },
    {
     "name": "stdout",
     "output_type": "stream",
     "text": [
      "✅ batch 54/85 in 204.0s | ETA ~ 89.0 min\n"
     ]
    },
    {
     "name": "stderr",
     "output_type": "stream",
     "text": [
      "Processing batches:  65%|██████▍   | 55/85 [2:38:26<1:38:32, 197.07s/it]"
     ]
    },
    {
     "name": "stdout",
     "output_type": "stream",
     "text": [
      "✅ batch 55/85 in 205.3s | ETA ~ 86.4 min\n"
     ]
    },
    {
     "name": "stderr",
     "output_type": "stream",
     "text": [
      "Processing batches:  66%|██████▌   | 56/85 [2:41:40<1:34:45, 196.07s/it]"
     ]
    },
    {
     "name": "stdout",
     "output_type": "stream",
     "text": [
      "✅ batch 56/85 in 193.7s | ETA ~ 83.7 min\n"
     ]
    },
    {
     "name": "stderr",
     "output_type": "stream",
     "text": [
      "Processing batches:  67%|██████▋   | 57/85 [2:44:55<1:31:20, 195.74s/it]"
     ]
    },
    {
     "name": "stdout",
     "output_type": "stream",
     "text": [
      "✅ batch 57/85 in 195.0s | ETA ~ 81.0 min\n"
     ]
    },
    {
     "name": "stderr",
     "output_type": "stream",
     "text": [
      "Processing batches:  68%|██████▊   | 58/85 [2:48:05<1:27:14, 193.87s/it]"
     ]
    },
    {
     "name": "stdout",
     "output_type": "stream",
     "text": [
      "✅ batch 58/85 in 189.5s | ETA ~ 78.2 min\n"
     ]
    },
    {
     "name": "stderr",
     "output_type": "stream",
     "text": [
      "Processing batches:  69%|██████▉   | 59/85 [2:51:37<1:26:25, 199.44s/it]"
     ]
    },
    {
     "name": "stdout",
     "output_type": "stream",
     "text": [
      "✅ batch 59/85 in 212.4s | ETA ~ 75.6 min\n"
     ]
    },
    {
     "name": "stderr",
     "output_type": "stream",
     "text": [
      "Processing batches:  71%|███████   | 60/85 [2:54:45<1:21:43, 196.15s/it]"
     ]
    },
    {
     "name": "stdout",
     "output_type": "stream",
     "text": [
      "✅ batch 60/85 in 188.5s | ETA ~ 72.8 min\n"
     ]
    },
    {
     "name": "stderr",
     "output_type": "stream",
     "text": [
      "Processing batches:  72%|███████▏  | 61/85 [2:57:08<1:12:00, 180.04s/it]"
     ]
    },
    {
     "name": "stdout",
     "output_type": "stream",
     "text": [
      "✅ batch 61/85 in 142.4s | ETA ~ 69.7 min\n"
     ]
    },
    {
     "name": "stderr",
     "output_type": "stream",
     "text": [
      "Processing batches:  73%|███████▎  | 62/85 [2:59:29<1:04:34, 168.44s/it]"
     ]
    },
    {
     "name": "stdout",
     "output_type": "stream",
     "text": [
      "✅ batch 62/85 in 141.4s | ETA ~ 66.6 min\n"
     ]
    },
    {
     "name": "stderr",
     "output_type": "stream",
     "text": [
      "Processing batches:  74%|███████▍  | 63/85 [3:02:56<1:05:59, 179.98s/it]"
     ]
    },
    {
     "name": "stdout",
     "output_type": "stream",
     "text": [
      "✅ batch 63/85 in 206.9s | ETA ~ 63.9 min\n"
     ]
    },
    {
     "name": "stderr",
     "output_type": "stream",
     "text": [
      "Processing batches:  75%|███████▌  | 64/85 [3:05:36<1:00:50, 173.83s/it]"
     ]
    },
    {
     "name": "stdout",
     "output_type": "stream",
     "text": [
      "✅ batch 64/85 in 159.5s | ETA ~ 60.9 min\n"
     ]
    },
    {
     "name": "stderr",
     "output_type": "stream",
     "text": [
      "Processing batches:  76%|███████▋  | 65/85 [3:07:53<54:15, 162.76s/it]  "
     ]
    },
    {
     "name": "stdout",
     "output_type": "stream",
     "text": [
      "✅ batch 65/85 in 136.9s | ETA ~ 57.8 min\n"
     ]
    },
    {
     "name": "stderr",
     "output_type": "stream",
     "text": [
      "Processing batches:  78%|███████▊  | 66/85 [3:10:10<49:10, 155.28s/it]"
     ]
    },
    {
     "name": "stdout",
     "output_type": "stream",
     "text": [
      "✅ batch 66/85 in 137.8s | ETA ~ 54.7 min\n"
     ]
    },
    {
     "name": "stderr",
     "output_type": "stream",
     "text": [
      "Processing batches:  79%|███████▉  | 67/85 [3:12:19<44:09, 147.19s/it]"
     ]
    },
    {
     "name": "stdout",
     "output_type": "stream",
     "text": [
      "✅ batch 67/85 in 128.3s | ETA ~ 51.7 min\n"
     ]
    },
    {
     "name": "stderr",
     "output_type": "stream",
     "text": [
      "Processing batches:  80%|████████  | 68/85 [3:14:36<40:52, 144.25s/it]"
     ]
    },
    {
     "name": "stdout",
     "output_type": "stream",
     "text": [
      "✅ batch 68/85 in 137.4s | ETA ~ 48.7 min\n"
     ]
    },
    {
     "name": "stderr",
     "output_type": "stream",
     "text": [
      "Processing batches:  81%|████████  | 69/85 [3:16:47<37:23, 140.22s/it]"
     ]
    },
    {
     "name": "stdout",
     "output_type": "stream",
     "text": [
      "✅ batch 69/85 in 130.8s | ETA ~ 45.6 min\n"
     ]
    },
    {
     "name": "stderr",
     "output_type": "stream",
     "text": [
      "Processing batches:  82%|████████▏ | 70/85 [3:18:59<34:25, 137.73s/it]"
     ]
    },
    {
     "name": "stdout",
     "output_type": "stream",
     "text": [
      "✅ batch 70/85 in 131.9s | ETA ~ 42.6 min\n"
     ]
    },
    {
     "name": "stderr",
     "output_type": "stream",
     "text": [
      "Processing batches:  84%|████████▎ | 71/85 [3:21:13<31:51, 136.57s/it]"
     ]
    },
    {
     "name": "stdout",
     "output_type": "stream",
     "text": [
      "✅ batch 71/85 in 133.9s | ETA ~ 39.7 min\n"
     ]
    },
    {
     "name": "stderr",
     "output_type": "stream",
     "text": [
      "Processing batches:  85%|████████▍ | 72/85 [3:23:22<29:06, 134.31s/it]"
     ]
    },
    {
     "name": "stdout",
     "output_type": "stream",
     "text": [
      "✅ batch 72/85 in 129.0s | ETA ~ 36.7 min\n"
     ]
    },
    {
     "name": "stderr",
     "output_type": "stream",
     "text": [
      "Processing batches:  86%|████████▌ | 73/85 [3:25:43<27:16, 136.34s/it]"
     ]
    },
    {
     "name": "stdout",
     "output_type": "stream",
     "text": [
      "✅ batch 73/85 in 141.1s | ETA ~ 33.8 min\n"
     ]
    },
    {
     "name": "stderr",
     "output_type": "stream",
     "text": [
      "Processing batches:  87%|████████▋ | 74/85 [3:28:19<26:03, 142.16s/it]"
     ]
    },
    {
     "name": "stdout",
     "output_type": "stream",
     "text": [
      "✅ batch 74/85 in 155.7s | ETA ~ 31.0 min\n"
     ]
    },
    {
     "name": "stderr",
     "output_type": "stream",
     "text": [
      "Processing batches:  88%|████████▊ | 75/85 [3:31:17<25:31, 153.13s/it]"
     ]
    },
    {
     "name": "stdout",
     "output_type": "stream",
     "text": [
      "✅ batch 75/85 in 178.7s | ETA ~ 28.2 min\n"
     ]
    },
    {
     "name": "stderr",
     "output_type": "stream",
     "text": [
      "Processing batches:  89%|████████▉ | 76/85 [3:34:29<24:42, 164.75s/it]"
     ]
    },
    {
     "name": "stdout",
     "output_type": "stream",
     "text": [
      "✅ batch 76/85 in 191.9s | ETA ~ 25.4 min\n"
     ]
    },
    {
     "name": "stderr",
     "output_type": "stream",
     "text": [
      "Processing batches:  91%|█████████ | 77/85 [3:37:36<22:51, 171.47s/it]"
     ]
    },
    {
     "name": "stdout",
     "output_type": "stream",
     "text": [
      "✅ batch 77/85 in 187.1s | ETA ~ 22.6 min\n"
     ]
    },
    {
     "name": "stderr",
     "output_type": "stream",
     "text": [
      "Processing batches:  92%|█████████▏| 78/85 [3:40:49<20:45, 177.89s/it]"
     ]
    },
    {
     "name": "stdout",
     "output_type": "stream",
     "text": [
      "✅ batch 78/85 in 192.9s | ETA ~ 19.8 min\n"
     ]
    },
    {
     "name": "stderr",
     "output_type": "stream",
     "text": [
      "Processing batches:  93%|█████████▎| 79/85 [3:43:56<18:02, 180.49s/it]"
     ]
    },
    {
     "name": "stdout",
     "output_type": "stream",
     "text": [
      "✅ batch 79/85 in 186.6s | ETA ~ 17.0 min\n"
     ]
    },
    {
     "name": "stderr",
     "output_type": "stream",
     "text": [
      "Processing batches:  94%|█████████▍| 80/85 [3:46:58<15:05, 181.11s/it]"
     ]
    },
    {
     "name": "stdout",
     "output_type": "stream",
     "text": [
      "✅ batch 80/85 in 182.5s | ETA ~ 14.2 min\n"
     ]
    },
    {
     "name": "stderr",
     "output_type": "stream",
     "text": [
      "Processing batches:  95%|█████████▌| 81/85 [3:50:06<12:12, 183.14s/it]"
     ]
    },
    {
     "name": "stdout",
     "output_type": "stream",
     "text": [
      "✅ batch 81/85 in 187.9s | ETA ~ 11.4 min\n"
     ]
    },
    {
     "name": "stderr",
     "output_type": "stream",
     "text": [
      "Processing batches:  96%|█████████▋| 82/85 [3:53:09<09:09, 183.04s/it]"
     ]
    },
    {
     "name": "stdout",
     "output_type": "stream",
     "text": [
      "✅ batch 82/85 in 182.8s | ETA ~ 8.5 min\n"
     ]
    },
    {
     "name": "stderr",
     "output_type": "stream",
     "text": [
      "Processing batches:  98%|█████████▊| 83/85 [3:56:10<06:04, 182.33s/it]"
     ]
    },
    {
     "name": "stdout",
     "output_type": "stream",
     "text": [
      "✅ batch 83/85 in 180.7s | ETA ~ 5.7 min\n"
     ]
    },
    {
     "name": "stderr",
     "output_type": "stream",
     "text": [
      "Processing batches:  99%|█████████▉| 84/85 [3:59:19<03:04, 184.47s/it]"
     ]
    },
    {
     "name": "stdout",
     "output_type": "stream",
     "text": [
      "✅ batch 84/85 in 189.5s | ETA ~ 2.8 min\n"
     ]
    },
    {
     "name": "stderr",
     "output_type": "stream",
     "text": [
      "Processing batches: 100%|██████████| 85/85 [3:59:29<00:00, 169.05s/it]"
     ]
    },
    {
     "name": "stdout",
     "output_type": "stream",
     "text": [
      "✅ batch 85/85 in 10.0s | ETA ~ 0.0 min\n"
     ]
    },
    {
     "name": "stderr",
     "output_type": "stream",
     "text": [
      "\n"
     ]
    }
   ],
   "source": [
    "results = run_neosca_batch_per_textfile(dataset, text_column=\"altered_text_clean\", batch_size=150, output_dir=\"neosca_batches\")"
   ]
  },
  {
   "cell_type": "code",
   "execution_count": 9,
   "id": "7b71ed72",
   "metadata": {},
   "outputs": [],
   "source": [
    "results.to_pickle(\"syntactic_complexity.pkl\")"
   ]
  },
  {
   "cell_type": "code",
   "execution_count": null,
   "id": "ce68a37c",
   "metadata": {},
   "outputs": [],
   "source": [
    "import pandas as pd\n",
    "import numpy as np\n",
    "import itertools\n",
    "import statsmodels.api as sm\n",
    "from scipy import stats\n",
    "\n",
    "\n",
    "\n",
    "\n",
    "\n",
    "\n",
    "\n",
    "\n",
    "\n",
    "\n"
   ]
  },
  {
   "cell_type": "code",
   "execution_count": null,
   "id": "6c55d97c",
   "metadata": {},
   "outputs": [],
   "source": [
    "# =========\n",
    "# 0) MERGE\n",
    "# =========\n",
    "def merge_semantic_and_syntax(\n",
    "    df_features: pd.DataFrame,      # original table with PCA_unexplained_variance\n",
    "    df_neosca: pd.DataFrame,        # NeoSCA per-text features\n",
    "    on: str = \"altered_text_clean\",            # common key to merge on\n",
    "    text_col_in_neosca: str = \"altered_text_clean\",  # just kept for reference\n",
    "    keep_cols_from_neosca: list = None\n",
    ") -> pd.DataFrame:\n",
    "    \"\"\"\n",
    "    Merge your existing features with NeoSCA results.\n",
    "    Assumes df_features and df_neosca share an ID column (e.g., 'text_id').\n",
    "    If you don’t have an ID, create one in both tables before calling this.\n",
    "    \"\"\"\n",
    "    if keep_cols_from_neosca is None:\n",
    "        # keep everything except Filename path\n",
    "        keep_cols_from_neosca = [c for c in df_neosca.columns if c != \"Filename\"]\n",
    "\n",
    "    # Avoid duplicate columns on merge\n",
    "    right = df_neosca[ [on] + [c for c in keep_cols_from_neosca if c != on] ].copy()\n",
    "    out = df_features.merge(right, on=on, how=\"inner\")\n",
    "    return out\n",
    "\n",
    "\n",
    "merge_df = merge_semantic_and_syntax(dataset,results)"
   ]
  },
  {
   "cell_type": "code",
   "execution_count": null,
   "id": "1422d3cd",
   "metadata": {},
   "outputs": [],
   "source": [
    "def _safe_ratio(num, den):\n",
    "    num = num.astype(float)\n",
    "    den = den.astype(float)\n",
    "    out = num / den.replace({0: np.nan})\n",
    "    return out.replace([np.inf, -np.inf], np.nan)\n",
    "\n",
    "def add_derived_length_means(df: pd.DataFrame) -> pd.DataFrame:\n",
    "    \"\"\"\n",
    "    Add the classic Lu 'length' means derived from counts:\n",
    "    MLS=W/S, MLT=W/T, MLC=W/C\n",
    "    \"\"\"\n",
    "    df = df.copy()\n",
    "    for col in [\"W\",\"S\",\"T\",\"C\"]:\n",
    "        if col not in df.columns:\n",
    "            df[col] = np.nan\n",
    "    df[\"MLS\"] = _safe_ratio(df[\"W\"], df[\"S\"])  # Mean length of sentence\n",
    "    df[\"MLT\"] = _safe_ratio(df[\"W\"], df[\"T\"])  # Mean length of T-unit\n",
    "    df[\"MLC\"] = _safe_ratio(df[\"W\"], df[\"C\"])  # Mean length of clause\n",
    "    return df\n",
    "\n",
    "def zscore(s: pd.Series) -> pd.Series:\n",
    "    return (s - s.mean(skipna=True)) / s.std(skipna=True)\n",
    "\n",
    "def build_syntax_domains_from_available(df: pd.DataFrame) -> pd.DataFrame:\n",
    "    \"\"\"\n",
    "    Build domain composites (z-averages) from indices you already have.\n",
    "    We standardize each component and average within domain.\n",
    "\n",
    "    Domains (proxies):\n",
    "      - Length:      MLS, MLT, MLC\n",
    "      - Global:      T/S     (T-units per sentence)\n",
    "      - Clausal:     C/T, DC/C, DC/T    (+ optional C if desired)\n",
    "      - Phrasal:     VP/T, CP/T, CP/C, CN/T, CN/C\n",
    "\n",
    "    Length domain = “how long units are”\n",
    "\n",
    "    Global domain = “complexity at sentence level”\n",
    "\n",
    "    Clausal domain = “clause embedding and subordination”\n",
    "\n",
    "    Phrasal domain = “phrasal elaboration”\n",
    "    \"\"\"\n",
    "    df = add_derived_length_means(df)\n",
    "\n",
    "    # Make sure missing columns exist (filled with NaN)\n",
    "    needed = [\"MLS\",\"MLT\",\"MLC\",\"T/S\",\"C/T\",\"DC/C\",\"DC/T\",\"VP/T\",\"CP/T\",\"CP/C\",\"CN/T\",\"CN/C\"]\n",
    "    for c in needed:\n",
    "        if c not in df.columns:\n",
    "            df[c] = np.nan\n",
    "\n",
    "    # Z-scores of components\n",
    "    comps = {\n",
    "        \"Length\":  [\"MLS\",\"MLT\",\"MLC\"],\n",
    "        \"Global\":  [\"T/S\"],\n",
    "        \"Clausal\": [\"C/T\",\"DC/C\",\"DC/T\"],\n",
    "        \"Phrasal\": [\"VP/T\",\"CP/T\",\"CP/C\",\"CN/T\",\"CN/C\"],\n",
    "    }\n",
    "\n",
    "    for dom, cols in comps.items():\n",
    "        zcols = []\n",
    "        for c in cols:\n",
    "            zc = f\"z_{c}\"\n",
    "            df[zc] = zscore(df[c]) if df[c].notna().any() else np.nan\n",
    "            zcols.append(zc)\n",
    "        # domain composite = mean of available z’s\n",
    "        df[f\"{dom}\"] = df[zcols].mean(axis=1)\n",
    "\n",
    "    return df\n",
    "\n",
    "\n",
    "merge_df = build_syntax_domains_from_available(merge_df)"
   ]
  },
  {
   "cell_type": "code",
   "execution_count": 22,
   "id": "cd2d2526",
   "metadata": {},
   "outputs": [
    {
     "data": {
      "text/html": [
       "<div>\n",
       "<style scoped>\n",
       "    .dataframe tbody tr th:only-of-type {\n",
       "        vertical-align: middle;\n",
       "    }\n",
       "\n",
       "    .dataframe tbody tr th {\n",
       "        vertical-align: top;\n",
       "    }\n",
       "\n",
       "    .dataframe thead th {\n",
       "        text-align: right;\n",
       "    }\n",
       "</style>\n",
       "<table border=\"1\" class=\"dataframe\">\n",
       "  <thead>\n",
       "    <tr style=\"text-align: right;\">\n",
       "      <th></th>\n",
       "      <th>feature</th>\n",
       "      <th>spearman_r</th>\n",
       "      <th>p_value</th>\n",
       "      <th>n</th>\n",
       "    </tr>\n",
       "  </thead>\n",
       "  <tbody>\n",
       "    <tr>\n",
       "      <th>1</th>\n",
       "      <td>S</td>\n",
       "      <td>0.655244</td>\n",
       "      <td>0.000000e+00</td>\n",
       "      <td>14755</td>\n",
       "    </tr>\n",
       "    <tr>\n",
       "      <th>4</th>\n",
       "      <td>T</td>\n",
       "      <td>0.537194</td>\n",
       "      <td>0.000000e+00</td>\n",
       "      <td>14755</td>\n",
       "    </tr>\n",
       "    <tr>\n",
       "      <th>3</th>\n",
       "      <td>C</td>\n",
       "      <td>0.294796</td>\n",
       "      <td>1.246216e-293</td>\n",
       "      <td>14755</td>\n",
       "    </tr>\n",
       "    <tr>\n",
       "      <th>2</th>\n",
       "      <td>VP</td>\n",
       "      <td>0.187821</td>\n",
       "      <td>3.092640e-117</td>\n",
       "      <td>14755</td>\n",
       "    </tr>\n",
       "    <tr>\n",
       "      <th>6</th>\n",
       "      <td>CT</td>\n",
       "      <td>0.069892</td>\n",
       "      <td>1.903864e-17</td>\n",
       "      <td>14755</td>\n",
       "    </tr>\n",
       "    <tr>\n",
       "      <th>5</th>\n",
       "      <td>DC</td>\n",
       "      <td>-0.024430</td>\n",
       "      <td>3.000082e-03</td>\n",
       "      <td>14755</td>\n",
       "    </tr>\n",
       "    <tr>\n",
       "      <th>0</th>\n",
       "      <td>W</td>\n",
       "      <td>-0.079887</td>\n",
       "      <td>2.512565e-22</td>\n",
       "      <td>14755</td>\n",
       "    </tr>\n",
       "    <tr>\n",
       "      <th>8</th>\n",
       "      <td>CN</td>\n",
       "      <td>-0.129960</td>\n",
       "      <td>1.358603e-56</td>\n",
       "      <td>14755</td>\n",
       "    </tr>\n",
       "    <tr>\n",
       "      <th>17</th>\n",
       "      <td>T/S</td>\n",
       "      <td>-0.213625</td>\n",
       "      <td>7.076267e-152</td>\n",
       "      <td>14755</td>\n",
       "    </tr>\n",
       "    <tr>\n",
       "      <th>24</th>\n",
       "      <td>Global</td>\n",
       "      <td>-0.213625</td>\n",
       "      <td>7.076267e-152</td>\n",
       "      <td>14755</td>\n",
       "    </tr>\n",
       "    <tr>\n",
       "      <th>7</th>\n",
       "      <td>CP</td>\n",
       "      <td>-0.221233</td>\n",
       "      <td>5.123402e-163</td>\n",
       "      <td>14755</td>\n",
       "    </tr>\n",
       "    <tr>\n",
       "      <th>15</th>\n",
       "      <td>DC/C</td>\n",
       "      <td>-0.255474</td>\n",
       "      <td>1.534557e-218</td>\n",
       "      <td>14755</td>\n",
       "    </tr>\n",
       "    <tr>\n",
       "      <th>14</th>\n",
       "      <td>C/T</td>\n",
       "      <td>-0.274952</td>\n",
       "      <td>3.540295e-254</td>\n",
       "      <td>14755</td>\n",
       "    </tr>\n",
       "    <tr>\n",
       "      <th>16</th>\n",
       "      <td>DC/T</td>\n",
       "      <td>-0.276030</td>\n",
       "      <td>3.079229e-256</td>\n",
       "      <td>14755</td>\n",
       "    </tr>\n",
       "    <tr>\n",
       "      <th>20</th>\n",
       "      <td>CP/C</td>\n",
       "      <td>-0.277686</td>\n",
       "      <td>2.011301e-259</td>\n",
       "      <td>14755</td>\n",
       "    </tr>\n",
       "    <tr>\n",
       "      <th>25</th>\n",
       "      <td>Clausal</td>\n",
       "      <td>-0.277745</td>\n",
       "      <td>1.546555e-259</td>\n",
       "      <td>14755</td>\n",
       "    </tr>\n",
       "    <tr>\n",
       "      <th>18</th>\n",
       "      <td>CT/T</td>\n",
       "      <td>-0.291011</td>\n",
       "      <td>7.433542e-286</td>\n",
       "      <td>14755</td>\n",
       "    </tr>\n",
       "    <tr>\n",
       "      <th>22</th>\n",
       "      <td>CN/C</td>\n",
       "      <td>-0.308752</td>\n",
       "      <td>0.000000e+00</td>\n",
       "      <td>14755</td>\n",
       "    </tr>\n",
       "    <tr>\n",
       "      <th>11</th>\n",
       "      <td>MLC</td>\n",
       "      <td>-0.353948</td>\n",
       "      <td>0.000000e+00</td>\n",
       "      <td>14755</td>\n",
       "    </tr>\n",
       "    <tr>\n",
       "      <th>19</th>\n",
       "      <td>CP/T</td>\n",
       "      <td>-0.356712</td>\n",
       "      <td>0.000000e+00</td>\n",
       "      <td>14755</td>\n",
       "    </tr>\n",
       "    <tr>\n",
       "      <th>12</th>\n",
       "      <td>C/S</td>\n",
       "      <td>-0.362384</td>\n",
       "      <td>0.000000e+00</td>\n",
       "      <td>14755</td>\n",
       "    </tr>\n",
       "    <tr>\n",
       "      <th>13</th>\n",
       "      <td>VP/T</td>\n",
       "      <td>-0.406072</td>\n",
       "      <td>0.000000e+00</td>\n",
       "      <td>14755</td>\n",
       "    </tr>\n",
       "    <tr>\n",
       "      <th>21</th>\n",
       "      <td>CN/T</td>\n",
       "      <td>-0.407269</td>\n",
       "      <td>0.000000e+00</td>\n",
       "      <td>14755</td>\n",
       "    </tr>\n",
       "    <tr>\n",
       "      <th>26</th>\n",
       "      <td>Phrasal</td>\n",
       "      <td>-0.500609</td>\n",
       "      <td>0.000000e+00</td>\n",
       "      <td>14755</td>\n",
       "    </tr>\n",
       "    <tr>\n",
       "      <th>10</th>\n",
       "      <td>MLT</td>\n",
       "      <td>-0.554753</td>\n",
       "      <td>0.000000e+00</td>\n",
       "      <td>14755</td>\n",
       "    </tr>\n",
       "    <tr>\n",
       "      <th>23</th>\n",
       "      <td>Length</td>\n",
       "      <td>-0.613179</td>\n",
       "      <td>0.000000e+00</td>\n",
       "      <td>14755</td>\n",
       "    </tr>\n",
       "    <tr>\n",
       "      <th>9</th>\n",
       "      <td>MLS</td>\n",
       "      <td>-0.641609</td>\n",
       "      <td>0.000000e+00</td>\n",
       "      <td>14755</td>\n",
       "    </tr>\n",
       "  </tbody>\n",
       "</table>\n",
       "</div>"
      ],
      "text/plain": [
       "    feature  spearman_r        p_value      n\n",
       "1         S    0.655244   0.000000e+00  14755\n",
       "4         T    0.537194   0.000000e+00  14755\n",
       "3         C    0.294796  1.246216e-293  14755\n",
       "2        VP    0.187821  3.092640e-117  14755\n",
       "6        CT    0.069892   1.903864e-17  14755\n",
       "5        DC   -0.024430   3.000082e-03  14755\n",
       "0         W   -0.079887   2.512565e-22  14755\n",
       "8        CN   -0.129960   1.358603e-56  14755\n",
       "17      T/S   -0.213625  7.076267e-152  14755\n",
       "24   Global   -0.213625  7.076267e-152  14755\n",
       "7        CP   -0.221233  5.123402e-163  14755\n",
       "15     DC/C   -0.255474  1.534557e-218  14755\n",
       "14      C/T   -0.274952  3.540295e-254  14755\n",
       "16     DC/T   -0.276030  3.079229e-256  14755\n",
       "20     CP/C   -0.277686  2.011301e-259  14755\n",
       "25  Clausal   -0.277745  1.546555e-259  14755\n",
       "18     CT/T   -0.291011  7.433542e-286  14755\n",
       "22     CN/C   -0.308752   0.000000e+00  14755\n",
       "11      MLC   -0.353948   0.000000e+00  14755\n",
       "19     CP/T   -0.356712   0.000000e+00  14755\n",
       "12      C/S   -0.362384   0.000000e+00  14755\n",
       "13     VP/T   -0.406072   0.000000e+00  14755\n",
       "21     CN/T   -0.407269   0.000000e+00  14755\n",
       "26  Phrasal   -0.500609   0.000000e+00  14755\n",
       "10      MLT   -0.554753   0.000000e+00  14755\n",
       "23   Length   -0.613179   0.000000e+00  14755\n",
       "9       MLS   -0.641609   0.000000e+00  14755"
      ]
     },
     "execution_count": 22,
     "metadata": {},
     "output_type": "execute_result"
    }
   ],
   "source": [
    "# =========================================\n",
    "# 1) SPEARMAN CORRELATIONS (robust to non-normality)\n",
    "# =========================================\n",
    "def spearman_with_p(values_df: pd.DataFrame, target:str, cols: list) -> pd.DataFrame:\n",
    "    \"\"\"\n",
    "    Compute Spearman correlations and two-sided p-values between the first column and the rest.\n",
    "    cols[0] is treated as the target (semantic score).\n",
    "    \"\"\"\n",
    "    rows = []\n",
    "    for c in cols:\n",
    "        x = values_df[target]\n",
    "        y = values_df[c]\n",
    "        mask = x.notna() & y.notna()\n",
    "        if mask.sum() < 3:\n",
    "            r, p = np.nan, np.nan\n",
    "        else:\n",
    "            r, p = stats.spearmanr(x[mask], y[mask])\n",
    "        rows.append({\"feature\": c, \"spearman_r\": r, \"p_value\": p, \"n\": int(mask.sum())})\n",
    "    return pd.DataFrame(rows).sort_values(\"spearman_r\", ascending=False)\n",
    "\n",
    "\n",
    "\n",
    "cols =['W',  'S',  'VP',  'C', 'T',  'DC',  'CT',  'CP',  'CN',  'MLS',  'MLT',  'MLC',  'C/S',\n",
    "       'VP/T',  'C/T', 'DC/C', 'DC/T',  'T/S', 'CT/T',  'CP/T','CP/C',  'CN/T', 'CN/C',\n",
    "       \"Length\",\"Global\",\"Clausal\",\"Phrasal\"]\n",
    "spearman_with_p(merge_df,target=\"reduction_score_PCA_explained_variance\",cols =cols)"
   ]
  },
  {
   "cell_type": "code",
   "execution_count": 31,
   "id": "dec71ed1",
   "metadata": {},
   "outputs": [],
   "source": [
    "# =========================================\n",
    "# 2) HIERARCHICAL REGRESSION & RESIDUALIZATION\n",
    "# =========================================\n",
    "def regression_and_residuals(\n",
    "    df: pd.DataFrame,\n",
    "    y_col: str,                     # semantic score: e.g., \"PCA_unexplained_variance\"\n",
    "    syntax_domain_cols: list,       # e.g., [\"Length\",\"Global\",\"Clausal\",\"Phrasal\"]\n",
    "    covariates: list = None         # optional: [\"age\",\"sex\",\"group\",\"W\",\"S\"] etc.\n",
    "):\n",
    "    \"\"\"\n",
    "    Fit OLS:  y ~ covariates + syntax_domains\n",
    "    Returns model summary, R2, ΔR2 (added by syntactic domains), and residualized semantic score.\n",
    "    \"\"\"\n",
    "    covariates = covariates or []\n",
    "    df_ = df.copy()\n",
    "    # Build design matrices\n",
    "    X_base = df_[covariates].copy() if covariates else pd.DataFrame(index=df_.index)\n",
    "    if len(X_base.columns) == 0:\n",
    "        X_base = pd.DataFrame({\"const\": 1.0}, index=df_.index)\n",
    "    else:\n",
    "        X_base = sm.add_constant(X_base, has_constant=\"add\")\n",
    "\n",
    "    X_full = sm.add_constant(df_[covariates + syntax_domain_cols], has_constant=\"add\")\n",
    "    y = df_[y_col]\n",
    "\n",
    "    # Base model\n",
    "    m0 = sm.OLS(y, X_base, missing=\"drop\").fit()\n",
    "    r2_base = m0.rsquared\n",
    "\n",
    "    # Full model\n",
    "    m1 = sm.OLS(y, X_full, missing=\"drop\").fit()\n",
    "    r2_full = m1.rsquared\n",
    "    delta_r2 = r2_full - r2_base\n",
    "\n",
    "    # Residualized semantic score (semantic beyond syntax + covariates)\n",
    "    y_hat = m1.fittedvalues.reindex(df_.index)\n",
    "    df_[\"semantic_residual\"] = y - y_hat\n",
    "\n",
    "    # Nicely packed outputs\n",
    "    added = pd.DataFrame({\n",
    "        \"term\": [\"syntax_block\"],\n",
    "        \"R2_base\": [r2_base],\n",
    "        \"R2_full\": [r2_full],\n",
    "        \"delta_R2\": [delta_r2]\n",
    "    })\n",
    "    # Coefs table\n",
    "    coefs = m1.summary2().tables[1].reset_index().rename(columns={\"index\":\"term\"})\n",
    "    return {\n",
    "        \"df_with_residual\": df_,\n",
    "        \"base_model\": m0,\n",
    "        \"full_model\": m1,\n",
    "        \"added_variance_table\": added,\n",
    "        \"coefficients_table\": coefs\n",
    "    }\n",
    "\n",
    "\n",
    "semantic_col = \"reduction_score_PCA_explained_variance\"\n",
    "syntax_domains = [\"Length\",\"Global\",\"Clausal\",\"Phrasal\"]\n",
    "\n",
    "reg = regression_and_residuals(merge_df, y_col=semantic_col,\n",
    "                                   syntax_domain_cols=syntax_domains,\n",
    "                                   )\n",
    "df_with_resid = reg[\"df_with_residual\"]\n",
    "added_var = reg[\"added_variance_table\"]\n",
    "coefs_tbl = reg[\"coefficients_table\"]"
   ]
  },
  {
   "cell_type": "code",
   "execution_count": 34,
   "id": "f0573f4f",
   "metadata": {},
   "outputs": [
    {
     "data": {
      "text/html": [
       "<div>\n",
       "<style scoped>\n",
       "    .dataframe tbody tr th:only-of-type {\n",
       "        vertical-align: middle;\n",
       "    }\n",
       "\n",
       "    .dataframe tbody tr th {\n",
       "        vertical-align: top;\n",
       "    }\n",
       "\n",
       "    .dataframe thead th {\n",
       "        text-align: right;\n",
       "    }\n",
       "</style>\n",
       "<table border=\"1\" class=\"dataframe\">\n",
       "  <thead>\n",
       "    <tr style=\"text-align: right;\">\n",
       "      <th></th>\n",
       "      <th>term</th>\n",
       "      <th>Coef.</th>\n",
       "      <th>Std.Err.</th>\n",
       "      <th>t</th>\n",
       "      <th>P&gt;|t|</th>\n",
       "      <th>[0.025</th>\n",
       "      <th>0.975]</th>\n",
       "    </tr>\n",
       "  </thead>\n",
       "  <tbody>\n",
       "    <tr>\n",
       "      <th>0</th>\n",
       "      <td>const</td>\n",
       "      <td>0.476794</td>\n",
       "      <td>0.000509</td>\n",
       "      <td>936.935128</td>\n",
       "      <td>0.000000e+00</td>\n",
       "      <td>0.475797</td>\n",
       "      <td>0.477791</td>\n",
       "    </tr>\n",
       "    <tr>\n",
       "      <th>1</th>\n",
       "      <td>Length</td>\n",
       "      <td>-0.052479</td>\n",
       "      <td>0.001300</td>\n",
       "      <td>-40.368590</td>\n",
       "      <td>0.000000e+00</td>\n",
       "      <td>-0.055027</td>\n",
       "      <td>-0.049930</td>\n",
       "    </tr>\n",
       "    <tr>\n",
       "      <th>2</th>\n",
       "      <td>Global</td>\n",
       "      <td>-0.017385</td>\n",
       "      <td>0.000548</td>\n",
       "      <td>-31.738533</td>\n",
       "      <td>6.608489e-214</td>\n",
       "      <td>-0.018458</td>\n",
       "      <td>-0.016311</td>\n",
       "    </tr>\n",
       "    <tr>\n",
       "      <th>3</th>\n",
       "      <td>Clausal</td>\n",
       "      <td>-0.004278</td>\n",
       "      <td>0.000579</td>\n",
       "      <td>-7.387935</td>\n",
       "      <td>1.571183e-13</td>\n",
       "      <td>-0.005413</td>\n",
       "      <td>-0.003143</td>\n",
       "    </tr>\n",
       "    <tr>\n",
       "      <th>4</th>\n",
       "      <td>Phrasal</td>\n",
       "      <td>-0.006036</td>\n",
       "      <td>0.001548</td>\n",
       "      <td>-3.899753</td>\n",
       "      <td>9.671747e-05</td>\n",
       "      <td>-0.009070</td>\n",
       "      <td>-0.003002</td>\n",
       "    </tr>\n",
       "  </tbody>\n",
       "</table>\n",
       "</div>"
      ],
      "text/plain": [
       "      term     Coef.  Std.Err.           t          P>|t|    [0.025    0.975]\n",
       "0    const  0.476794  0.000509  936.935128   0.000000e+00  0.475797  0.477791\n",
       "1   Length -0.052479  0.001300  -40.368590   0.000000e+00 -0.055027 -0.049930\n",
       "2   Global -0.017385  0.000548  -31.738533  6.608489e-214 -0.018458 -0.016311\n",
       "3  Clausal -0.004278  0.000579   -7.387935   1.571183e-13 -0.005413 -0.003143\n",
       "4  Phrasal -0.006036  0.001548   -3.899753   9.671747e-05 -0.009070 -0.003002"
      ]
     },
     "execution_count": 34,
     "metadata": {},
     "output_type": "execute_result"
    }
   ],
   "source": [
    "coefs_tbl\n"
   ]
  },
  {
   "cell_type": "code",
   "execution_count": 33,
   "id": "c3aba22d",
   "metadata": {},
   "outputs": [
    {
     "data": {
      "text/html": [
       "<div>\n",
       "<style scoped>\n",
       "    .dataframe tbody tr th:only-of-type {\n",
       "        vertical-align: middle;\n",
       "    }\n",
       "\n",
       "    .dataframe tbody tr th {\n",
       "        vertical-align: top;\n",
       "    }\n",
       "\n",
       "    .dataframe thead th {\n",
       "        text-align: right;\n",
       "    }\n",
       "</style>\n",
       "<table border=\"1\" class=\"dataframe\">\n",
       "  <thead>\n",
       "    <tr style=\"text-align: right;\">\n",
       "      <th></th>\n",
       "      <th>term</th>\n",
       "      <th>R2_base</th>\n",
       "      <th>R2_full</th>\n",
       "      <th>delta_R2</th>\n",
       "    </tr>\n",
       "  </thead>\n",
       "  <tbody>\n",
       "    <tr>\n",
       "      <th>0</th>\n",
       "      <td>syntax_block</td>\n",
       "      <td>-2.220446e-16</td>\n",
       "      <td>0.425116</td>\n",
       "      <td>0.425116</td>\n",
       "    </tr>\n",
       "  </tbody>\n",
       "</table>\n",
       "</div>"
      ],
      "text/plain": [
       "           term       R2_base   R2_full  delta_R2\n",
       "0  syntax_block -2.220446e-16  0.425116  0.425116"
      ]
     },
     "execution_count": 33,
     "metadata": {},
     "output_type": "execute_result"
    }
   ],
   "source": [
    "added_var"
   ]
  },
  {
   "cell_type": "code",
   "execution_count": 35,
   "id": "e9a3f95b",
   "metadata": {},
   "outputs": [
    {
     "data": {
      "text/plain": [
       "(Length     0.215940\n",
       " Phrasal    0.126293\n",
       " Global     0.055283\n",
       " Clausal    0.021746\n",
       " dtype: float64,\n",
       " 0.4251159574429305)"
      ]
     },
     "execution_count": 35,
     "metadata": {},
     "output_type": "execute_result"
    }
   ],
   "source": [
    "# 3) COMMONALITY / SHAPLEY (variance partitioning)\n",
    "# =========================================\n",
    "def shapley_r2(df: pd.DataFrame, y_col: str, X_cols: list, covariates: list = None):\n",
    "    \"\"\"\n",
    "    Shapley (a.k.a. LMG / relative importance): apportion R^2 across predictors.\n",
    "    We compute the average marginal contribution of each predictor across all subsets.\n",
    "\n",
    "    Returns:\n",
    "      - contributions (pd.Series): unique contribution to R2 for each predictor\n",
    "      - total_R2 (float)\n",
    "    \"\"\"\n",
    "    covariates = covariates or []\n",
    "    idx = df.dropna(subset=[y_col] + covariates + X_cols).index\n",
    "    y = df.loc[idx, y_col]\n",
    "    total_R2 = None\n",
    "\n",
    "    def fit_r2(cols):\n",
    "        X = sm.add_constant(df.loc[idx, covariates + cols], has_constant=\"add\")\n",
    "        return sm.OLS(y, X).fit().rsquared\n",
    "\n",
    "    # all subsets for marginal contributions\n",
    "    contrib = {x: 0.0 for x in X_cols}\n",
    "    all_sets = list(itertools.chain.from_iterable(\n",
    "        itertools.combinations(X_cols, k) for k in range(len(X_cols)+1)\n",
    "    ))\n",
    "\n",
    "    # For each predictor, average its marginal ΔR2 across all subset contexts\n",
    "    for x in X_cols:\n",
    "        num_contexts = 0\n",
    "        delta_sum = 0.0\n",
    "        for S in all_sets:\n",
    "            S = list(S)\n",
    "            if x in S:\n",
    "                continue\n",
    "            r2_S = fit_r2(S)\n",
    "            r2_Sx = fit_r2(S + [x])\n",
    "            delta_sum += (r2_Sx - r2_S)\n",
    "            num_contexts += 1\n",
    "        contrib[x] = delta_sum / num_contexts if num_contexts > 0 else 0.0\n",
    "\n",
    "    # Total R2 of the full model (with all predictors + covariates)\n",
    "    total_R2 = fit_r2(X_cols)\n",
    "    return pd.Series(contrib).sort_values(ascending=False), total_R2\n",
    "\n",
    "shapley_r2(merge_df, y_col = semantic_col, X_cols = syntax_domains)\n"
   ]
  },
  {
   "cell_type": "code",
   "execution_count": 40,
   "id": "75ade7ef",
   "metadata": {},
   "outputs": [],
   "source": [
    "# =========================================\n",
    "# 4) QUICK DRIVER: from merged DF to all outputs\n",
    "# =========================================\n",
    "def answer_reviewer_pipeline(\n",
    "    df_merged: pd.DataFrame,\n",
    "    semantic_col: str = \"PCA_unexplained_variance\",\n",
    "    syntax_domains: list = [\"Length\",\"Global\",\"Clausal\",\"Phrasal\"],\n",
    "    covariates: list = None\n",
    "):\n",
    "    \"\"\"\n",
    "    Runs:\n",
    "     - Spearman correlations between semantic_col and each syntax domain.\n",
    "     - Hierarchical OLS: added variance from syntax beyond covariates.\n",
    "     - Residualized semantic score (semantic beyond syntax).\n",
    "     - Shapley/commonality analysis for unique vs shared variance.\n",
    "    \"\"\"\n",
    "    # 1) Correlations\n",
    "    corr_table = spearman_with_p(df_merged, target = semantic_col, cols = syntax_domains)\n",
    "\n",
    "    # 2) Hierarchical regression & residuals\n",
    "    reg = regression_and_residuals(df_merged, y_col=semantic_col,\n",
    "                                   syntax_domain_cols=syntax_domains,\n",
    "                                   covariates=covariates)\n",
    "    df_with_resid = reg[\"df_with_residual\"]\n",
    "    added_var = reg[\"added_variance_table\"]\n",
    "    coefs_tbl = reg[\"coefficients_table\"]\n",
    "\n",
    "    # 3) Shapley/commonality\n",
    "    shapley_contrib, total_R2 = shapley_r2(df_merged, y_col=semantic_col,\n",
    "                                           X_cols=syntax_domains, covariates=covariates)\n",
    "    shapley_table = shapley_contrib.reset_index()\n",
    "    shapley_table.columns = [\"predictor\", \"shapley_R2_contribution\"]\n",
    "    shapley_table[\"total_R2_full_model\"] = total_R2\n",
    "\n",
    "    return {\n",
    "        \"correlations\": corr_table,\n",
    "        \"added_variance\": added_var,\n",
    "        \"coefficients\": coefs_tbl,\n",
    "        #\"residualized_df\": df_with_resid,\n",
    "        \"shapley\": shapley_table\n",
    "    }"
   ]
  },
  {
   "cell_type": "code",
   "execution_count": 41,
   "id": "5c1b89a8",
   "metadata": {},
   "outputs": [
    {
     "data": {
      "text/plain": [
       "{'correlations':    feature  spearman_r        p_value      n\n",
       " 1   Global   -0.213625  7.076267e-152  14755\n",
       " 2  Clausal   -0.277745  1.546555e-259  14755\n",
       " 3  Phrasal   -0.500609   0.000000e+00  14755\n",
       " 0   Length   -0.613179   0.000000e+00  14755,\n",
       " 'added_variance':            term       R2_base   R2_full  delta_R2\n",
       " 0  syntax_block -2.220446e-16  0.425116  0.425116,\n",
       " 'coefficients':       term     Coef.  Std.Err.           t          P>|t|    [0.025    0.975]\n",
       " 0    const  0.476794  0.000509  936.935128   0.000000e+00  0.475797  0.477791\n",
       " 1   Length -0.052479  0.001300  -40.368590   0.000000e+00 -0.055027 -0.049930\n",
       " 2   Global -0.017385  0.000548  -31.738533  6.608489e-214 -0.018458 -0.016311\n",
       " 3  Clausal -0.004278  0.000579   -7.387935   1.571183e-13 -0.005413 -0.003143\n",
       " 4  Phrasal -0.006036  0.001548   -3.899753   9.671747e-05 -0.009070 -0.003002,\n",
       " 'shapley':   predictor  shapley_R2_contribution  total_R2_full_model\n",
       " 0    Length                 0.215940             0.425116\n",
       " 1   Phrasal                 0.126293             0.425116\n",
       " 2    Global                 0.055283             0.425116\n",
       " 3   Clausal                 0.021746             0.425116}"
      ]
     },
     "execution_count": 41,
     "metadata": {},
     "output_type": "execute_result"
    }
   ],
   "source": [
    "answer_reviewer_pipeline(df_merged=merge_df,semantic_col=semantic_col,syntax_domains=syntax_domains)"
   ]
  },
  {
   "cell_type": "code",
   "execution_count": 44,
   "id": "4bea16cf",
   "metadata": {},
   "outputs": [
    {
     "name": "stdout",
     "output_type": "stream",
     "text": [
      "combined_label\n",
      "medium_temperature_with_no_paraphrase    3384\n",
      "low_temperature_with_no_paraphrase       3262\n",
      "medium_temperature_with_paraphrase       3032\n",
      "low_temperature_with_paraphrase          2929\n",
      "Name: count, dtype: int64\n"
     ]
    }
   ],
   "source": [
    "syntactic_features = ['W',  'S',  'VP',  'C', 'T',  'DC',  'CT',  'CP',  'CN',  'MLS',  'MLT',  'MLC',  'C/S',\n",
    "       'VP/T',  'C/T', 'DC/C', 'DC/T',  'T/S', 'CT/T',  'CP/T','CP/C',  'CN/T', 'CN/C',]\n",
    "\n",
    "features_dict = {\n",
    "        \"syntactic_features\": syntactic_features,\n",
    "    }\n",
    "\n",
    "best_parameters_dict = {\n",
    "    \"syntactic_features\": {'n_estimators': 300, 'min_samples_split': 5, 'min_samples_leaf': 1, 'max_depth': 10, 'bootstrap': True},\n",
    "}\n",
    "\n",
    "\n",
    "\n",
    "label_encoded_dict = {\n",
    "    'low_temperature_with_paraphrase': 0,\n",
    "    'low_temperature_with_no_paraphrase': 1,\n",
    "    \"medium_temperature_with_paraphrase\": 2,\n",
    "    \"medium_temperature_with_no_paraphrase\": 3,\n",
    "    #\"high_temperature_with_paraphrase\": 4,\n",
    "    #\"high_temperature_with_no_paraphrase\": 5\n",
    "}\n",
    "\n",
    "num_to_label = {v: k for k, v in label_encoded_dict.items()}\n",
    "\n",
    "ml_dataset = merge_df.sample(frac = 1).copy()\n",
    "#dataset = dataset[~dataset[mean_sim_metrics].isin([-1]).any(axis=1)]\n",
    "\n",
    "\n",
    "\n",
    "ml_dataset['cat_label'] = ml_dataset.combined_label.map(label_encoded_dict)#.apply(int)\n",
    "ml_dataset['cat_label'].value_counts()\n",
    "\n",
    "print(dataset.combined_label.value_counts())"
   ]
  },
  {
   "cell_type": "code",
   "execution_count": 45,
   "id": "34ef4e1a",
   "metadata": {},
   "outputs": [
    {
     "name": "stdout",
     "output_type": "stream",
     "text": [
      "########################################\n",
      "Training with syntactic_features\n",
      "Accuracy: 0.3734090464068925\n",
      "F1 Score: 0.32052127553143217\n"
     ]
    },
    {
     "data": {
      "image/png": "[encoded data removed]",
      "text/plain": [
       "<Figure size 1000x800 with 2 Axes>"
      ]
     },
     "metadata": {},
     "output_type": "display_data"
    },
    {
     "data": {
      "image/png": "[encoded data removed]",
      "text/plain": [
       "<Figure size 1000x800 with 1 Axes>"
      ]
     },
     "metadata": {},
     "output_type": "display_data"
    },
    {
     "name": "stdout",
     "output_type": "stream",
     "text": [
      "possible_misclassifications_paraphrase_only 5107\n",
      "error_paraphrase_only 1373\n",
      "possible_misclassifications_temperature_only 5107\n",
      "error_temperature_only 1028\n",
      "possible_misclassifications_fail_dissociate 2544\n",
      "error_fail_dissociate 409\n"
     ]
    },
    {
     "data": {
      "image/png": "[encoded data removed]",
      "text/plain": [
       "<Figure size 600x400 with 1 Axes>"
      ]
     },
     "metadata": {},
     "output_type": "display_data"
    },
    {
     "data": {
      "text/html": [
       "<div>\n",
       "<style scoped>\n",
       "    .dataframe tbody tr th:only-of-type {\n",
       "        vertical-align: middle;\n",
       "    }\n",
       "\n",
       "    .dataframe tbody tr th {\n",
       "        vertical-align: top;\n",
       "    }\n",
       "\n",
       "    .dataframe thead th {\n",
       "        text-align: right;\n",
       "    }\n",
       "</style>\n",
       "<table border=\"1\" class=\"dataframe\">\n",
       "  <thead>\n",
       "    <tr style=\"text-align: right;\">\n",
       "      <th></th>\n",
       "      <th>features_name</th>\n",
       "      <th>accuracy</th>\n",
       "      <th>f1_score</th>\n",
       "    </tr>\n",
       "  </thead>\n",
       "  <tbody>\n",
       "    <tr>\n",
       "      <th>0</th>\n",
       "      <td>syntactic_features</td>\n",
       "      <td>0.373409</td>\n",
       "      <td>0.320521</td>\n",
       "    </tr>\n",
       "  </tbody>\n",
       "</table>\n",
       "</div>"
      ],
      "text/plain": [
       "        features_name  accuracy  f1_score\n",
       "0  syntactic_features  0.373409  0.320521"
      ]
     },
     "execution_count": 45,
     "metadata": {},
     "output_type": "execute_result"
    }
   ],
   "source": [
    "## ML analysis\n",
    "from src.ml_utils import train_and_evaluate_rf\n",
    "\n",
    "\n",
    "plot = True\n",
    "compute_context_auc  = False\n",
    "error_type =True\n",
    "df_results = train_and_evaluate_rf(features_dict,best_parameters_dict, ml_dataset, y_name=\"cat_label\", num_to_label = num_to_label, plot = plot, plot_error_type=error_type)\n",
    "df_results.sort_values(by = \"f1_score\", ascending = False)\n",
    "df_results[['features_name','accuracy','f1_score']].sort_values(by = \"f1_score\", ascending = False)"
   ]
  },
  {
   "cell_type": "code",
   "execution_count": 58,
   "id": "94c74dce",
   "metadata": {},
   "outputs": [
    {
     "name": "stdout",
     "output_type": "stream",
     "text": [
      "✅ Consistent at idx 3 (checked 23 numeric features)\n",
      "✅ Consistent at idx 5 (checked 23 numeric features)\n",
      "✅ Consistent at idx 7 (checked 23 numeric features)\n",
      "✅ Consistent at idx 1 (checked 23 numeric features)\n",
      "✅ Consistent at idx 6 (checked 23 numeric features)\n"
     ]
    }
   ],
   "source": [
    "import os, io, shlex, tempfile, subprocess, random\n",
    "import pandas as pd\n",
    "import numpy as np\n",
    "\n",
    "# --- single run via TEMP FILE so \"Filename\" matches batch ---\n",
    "def run_neosca_single_file(text: str, newline_break: str = \"always\") -> pd.DataFrame:\n",
    "    \"\"\"\n",
    "    Run NeoSCA on a single text by writing it to a temp file, so the\n",
    "    'Filename' field matches the batch behavior.\n",
    "    \"\"\"\n",
    "    with tempfile.NamedTemporaryFile(mode=\"w+\", delete=False, suffix=\".txt\", encoding=\"utf-8\") as tmp:\n",
    "        tmp.write(text.strip() + \"\\n\")\n",
    "        tmp_path = tmp.name\n",
    "    try:\n",
    "        out = subprocess.run(\n",
    "            f\"nsca {shlex.quote(tmp_path)} --stdout --output-format csv --newline-break {newline_break}\",\n",
    "            shell=True, check=True, text=True, capture_output=True\n",
    "        )\n",
    "        df = pd.read_csv(io.StringIO(out.stdout))\n",
    "        return df\n",
    "    finally:\n",
    "        try: os.remove(tmp_path)\n",
    "        except Exception: pass\n",
    "\n",
    "\n",
    "def _numeric_cols(df: pd.DataFrame) -> list:\n",
    "    \"\"\"Return only numeric feature columns (exclude text/meta columns).\"\"\"\n",
    "    # Common meta columns to drop if present\n",
    "    drop = {\"Filename\", \"text\", \"altered_text\", \"altered_text_clean\"}\n",
    "    cols = [c for c in df.columns if c not in drop]\n",
    "    # keep only numeric\n",
    "    num = [c for c in cols if pd.api.types.is_numeric_dtype(df[c])]\n",
    "    return num\n",
    "\n",
    "\n",
    "def check_neosca_consistency(results: pd.DataFrame, text_column: str, n_checks: int = 3, tol: float = 1e-6):\n",
    "    \"\"\"\n",
    "    Compare batch NeoSCA features against single-file NeoSCA on random rows.\n",
    "    Only numeric feature columns are compared; 'Filename' and text columns are ignored.\n",
    "    \"\"\"\n",
    "    if len(results) == 0:\n",
    "        print(\"No results to check.\")\n",
    "        return\n",
    "\n",
    "    # sample unique indices within range\n",
    "    idxs = random.sample(range(len(results)), min(n_checks, len(results)))\n",
    "\n",
    "    for idx in idxs:\n",
    "        text = results.loc[idx, text_column]\n",
    "        batch_row = results.loc[idx:idx]  # keep as DataFrame for dtypes\n",
    "        # single run via file so Filename field presence/format matches\n",
    "        single_row = run_neosca_single_file(text).iloc[0:1]\n",
    "\n",
    "        # find comparable numeric columns present in both\n",
    "        num_cols = sorted(set(_numeric_cols(results)).intersection(_numeric_cols(single_row)))\n",
    "\n",
    "        if not num_cols:\n",
    "            print(f\"⚠️ No comparable numeric columns at index {idx}\")\n",
    "            continue\n",
    "\n",
    "        # compute diffs\n",
    "        b = batch_row[num_cols].astype(float).iloc[0]\n",
    "        s = single_row[num_cols].astype(float).iloc[0]\n",
    "        diffs = (b - s).abs()\n",
    "\n",
    "        # report\n",
    "        bad = diffs[diffs > tol]\n",
    "        if len(bad):\n",
    "            print(f\"❌ Inconsistency at idx {idx} (text='{str(text)[:60]}...'):\")\n",
    "            for c, d in bad.items():\n",
    "                print(f\"   - {c}: batch={b[c]}, single={s[c]}, |Δ|={d}\")\n",
    "        else:\n",
    "            print(f\"✅ Consistent at idx {idx} (checked {len(num_cols)} numeric features)\")\n",
    "\n",
    "\n",
    "check_neosca_consistency(results, text_column=\"altered_text_clean\", n_checks=5, tol=1e-8)"
   ]
  },
  {
   "cell_type": "code",
   "execution_count": 59,
   "id": "69d522b4",
   "metadata": {},
   "outputs": [
    {
     "data": {
      "text/html": [
       "<div>\n",
       "<style scoped>\n",
       "    .dataframe tbody tr th:only-of-type {\n",
       "        vertical-align: middle;\n",
       "    }\n",
       "\n",
       "    .dataframe tbody tr th {\n",
       "        vertical-align: top;\n",
       "    }\n",
       "\n",
       "    .dataframe thead th {\n",
       "        text-align: right;\n",
       "    }\n",
       "</style>\n",
       "<table border=\"1\" class=\"dataframe\">\n",
       "  <thead>\n",
       "    <tr style=\"text-align: right;\">\n",
       "      <th></th>\n",
       "      <th>altered_text_clean</th>\n",
       "      <th>Filename</th>\n",
       "      <th>W</th>\n",
       "      <th>S</th>\n",
       "      <th>VP</th>\n",
       "      <th>C</th>\n",
       "      <th>T</th>\n",
       "      <th>DC</th>\n",
       "      <th>CT</th>\n",
       "      <th>CP</th>\n",
       "      <th>...</th>\n",
       "      <th>VP/T</th>\n",
       "      <th>C/T</th>\n",
       "      <th>DC/C</th>\n",
       "      <th>DC/T</th>\n",
       "      <th>T/S</th>\n",
       "      <th>CT/T</th>\n",
       "      <th>CP/T</th>\n",
       "      <th>CP/C</th>\n",
       "      <th>CN/T</th>\n",
       "      <th>CN/C</th>\n",
       "    </tr>\n",
       "  </thead>\n",
       "  <tbody>\n",
       "    <tr>\n",
       "      <th>0</th>\n",
       "      <td>Most people start the day by getting out of be...</td>\n",
       "      <td>/tmp/neosca_batch_0_z96qljxq/doc_00001.txt</td>\n",
       "      <td>162</td>\n",
       "      <td>13</td>\n",
       "      <td>25</td>\n",
       "      <td>18</td>\n",
       "      <td>12</td>\n",
       "      <td>6</td>\n",
       "      <td>3</td>\n",
       "      <td>5</td>\n",
       "      <td>...</td>\n",
       "      <td>2.0833</td>\n",
       "      <td>1.5000</td>\n",
       "      <td>0.3333</td>\n",
       "      <td>0.5000</td>\n",
       "      <td>0.9231</td>\n",
       "      <td>0.2500</td>\n",
       "      <td>0.4167</td>\n",
       "      <td>0.2778</td>\n",
       "      <td>1.0833</td>\n",
       "      <td>0.7222</td>\n",
       "    </tr>\n",
       "    <tr>\n",
       "      <th>1</th>\n",
       "      <td>Most people start the day by waking up in the ...</td>\n",
       "      <td>/tmp/neosca_batch_0_z96qljxq/doc_00002.txt</td>\n",
       "      <td>161</td>\n",
       "      <td>12</td>\n",
       "      <td>31</td>\n",
       "      <td>19</td>\n",
       "      <td>12</td>\n",
       "      <td>8</td>\n",
       "      <td>4</td>\n",
       "      <td>2</td>\n",
       "      <td>...</td>\n",
       "      <td>2.5833</td>\n",
       "      <td>1.5833</td>\n",
       "      <td>0.4211</td>\n",
       "      <td>0.6667</td>\n",
       "      <td>1.0000</td>\n",
       "      <td>0.3333</td>\n",
       "      <td>0.1667</td>\n",
       "      <td>0.1053</td>\n",
       "      <td>1.3333</td>\n",
       "      <td>0.8421</td>\n",
       "    </tr>\n",
       "    <tr>\n",
       "      <th>2</th>\n",
       "      <td>Most people start the day by getting up and go...</td>\n",
       "      <td>/tmp/neosca_batch_0_z96qljxq/doc_00003.txt</td>\n",
       "      <td>172</td>\n",
       "      <td>11</td>\n",
       "      <td>27</td>\n",
       "      <td>17</td>\n",
       "      <td>11</td>\n",
       "      <td>7</td>\n",
       "      <td>5</td>\n",
       "      <td>3</td>\n",
       "      <td>...</td>\n",
       "      <td>2.4545</td>\n",
       "      <td>1.5455</td>\n",
       "      <td>0.4118</td>\n",
       "      <td>0.6364</td>\n",
       "      <td>1.0000</td>\n",
       "      <td>0.4545</td>\n",
       "      <td>0.2727</td>\n",
       "      <td>0.1765</td>\n",
       "      <td>1.4545</td>\n",
       "      <td>0.9412</td>\n",
       "    </tr>\n",
       "    <tr>\n",
       "      <th>3</th>\n",
       "      <td>Most people start the day by eating breakfast ...</td>\n",
       "      <td>/tmp/neosca_batch_0_z96qljxq/doc_00004.txt</td>\n",
       "      <td>165</td>\n",
       "      <td>9</td>\n",
       "      <td>18</td>\n",
       "      <td>14</td>\n",
       "      <td>9</td>\n",
       "      <td>4</td>\n",
       "      <td>3</td>\n",
       "      <td>5</td>\n",
       "      <td>...</td>\n",
       "      <td>2.0000</td>\n",
       "      <td>1.5556</td>\n",
       "      <td>0.2857</td>\n",
       "      <td>0.4444</td>\n",
       "      <td>1.0000</td>\n",
       "      <td>0.3333</td>\n",
       "      <td>0.5556</td>\n",
       "      <td>0.3571</td>\n",
       "      <td>1.2222</td>\n",
       "      <td>0.7857</td>\n",
       "    </tr>\n",
       "    <tr>\n",
       "      <th>4</th>\n",
       "      <td>Most people start the day by getting up and go...</td>\n",
       "      <td>/tmp/neosca_batch_0_z96qljxq/doc_00005.txt</td>\n",
       "      <td>181</td>\n",
       "      <td>6</td>\n",
       "      <td>25</td>\n",
       "      <td>17</td>\n",
       "      <td>6</td>\n",
       "      <td>9</td>\n",
       "      <td>3</td>\n",
       "      <td>6</td>\n",
       "      <td>...</td>\n",
       "      <td>4.1667</td>\n",
       "      <td>2.8333</td>\n",
       "      <td>0.5294</td>\n",
       "      <td>1.5000</td>\n",
       "      <td>1.0000</td>\n",
       "      <td>0.5000</td>\n",
       "      <td>1.0000</td>\n",
       "      <td>0.3529</td>\n",
       "      <td>3.0000</td>\n",
       "      <td>1.0588</td>\n",
       "    </tr>\n",
       "    <tr>\n",
       "      <th>5</th>\n",
       "      <td>Most people start the day by getting up and go...</td>\n",
       "      <td>/tmp/neosca_batch_1_w1g8d2dl/doc_00001.txt</td>\n",
       "      <td>162</td>\n",
       "      <td>14</td>\n",
       "      <td>27</td>\n",
       "      <td>16</td>\n",
       "      <td>14</td>\n",
       "      <td>5</td>\n",
       "      <td>4</td>\n",
       "      <td>5</td>\n",
       "      <td>...</td>\n",
       "      <td>1.9286</td>\n",
       "      <td>1.1429</td>\n",
       "      <td>0.3125</td>\n",
       "      <td>0.3571</td>\n",
       "      <td>1.0000</td>\n",
       "      <td>0.2857</td>\n",
       "      <td>0.3571</td>\n",
       "      <td>0.3125</td>\n",
       "      <td>0.5714</td>\n",
       "      <td>0.5000</td>\n",
       "    </tr>\n",
       "    <tr>\n",
       "      <th>6</th>\n",
       "      <td>Most people start the day by getting up and go...</td>\n",
       "      <td>/tmp/neosca_batch_1_w1g8d2dl/doc_00002.txt</td>\n",
       "      <td>170</td>\n",
       "      <td>14</td>\n",
       "      <td>35</td>\n",
       "      <td>21</td>\n",
       "      <td>15</td>\n",
       "      <td>7</td>\n",
       "      <td>5</td>\n",
       "      <td>2</td>\n",
       "      <td>...</td>\n",
       "      <td>2.3333</td>\n",
       "      <td>1.4000</td>\n",
       "      <td>0.3333</td>\n",
       "      <td>0.4667</td>\n",
       "      <td>1.0714</td>\n",
       "      <td>0.3333</td>\n",
       "      <td>0.1333</td>\n",
       "      <td>0.0952</td>\n",
       "      <td>0.6667</td>\n",
       "      <td>0.4762</td>\n",
       "    </tr>\n",
       "    <tr>\n",
       "      <th>7</th>\n",
       "      <td>Most people start the day by getting up and do...</td>\n",
       "      <td>/tmp/neosca_batch_1_w1g8d2dl/doc_00003.txt</td>\n",
       "      <td>174</td>\n",
       "      <td>9</td>\n",
       "      <td>27</td>\n",
       "      <td>12</td>\n",
       "      <td>9</td>\n",
       "      <td>4</td>\n",
       "      <td>3</td>\n",
       "      <td>5</td>\n",
       "      <td>...</td>\n",
       "      <td>3.0000</td>\n",
       "      <td>1.3333</td>\n",
       "      <td>0.3333</td>\n",
       "      <td>0.4444</td>\n",
       "      <td>1.0000</td>\n",
       "      <td>0.3333</td>\n",
       "      <td>0.5556</td>\n",
       "      <td>0.4167</td>\n",
       "      <td>1.6667</td>\n",
       "      <td>1.2500</td>\n",
       "    </tr>\n",
       "    <tr>\n",
       "      <th>8</th>\n",
       "      <td>Most people start the day by getting up and mo...</td>\n",
       "      <td>/tmp/neosca_batch_1_w1g8d2dl/doc_00004.txt</td>\n",
       "      <td>166</td>\n",
       "      <td>11</td>\n",
       "      <td>33</td>\n",
       "      <td>16</td>\n",
       "      <td>12</td>\n",
       "      <td>5</td>\n",
       "      <td>3</td>\n",
       "      <td>3</td>\n",
       "      <td>...</td>\n",
       "      <td>2.7500</td>\n",
       "      <td>1.3333</td>\n",
       "      <td>0.3125</td>\n",
       "      <td>0.4167</td>\n",
       "      <td>1.0909</td>\n",
       "      <td>0.2500</td>\n",
       "      <td>0.2500</td>\n",
       "      <td>0.1875</td>\n",
       "      <td>1.0833</td>\n",
       "      <td>0.8125</td>\n",
       "    </tr>\n",
       "    <tr>\n",
       "      <th>9</th>\n",
       "      <td>Most people start the day by getting up and go...</td>\n",
       "      <td>/tmp/neosca_batch_1_w1g8d2dl/doc_00005.txt</td>\n",
       "      <td>171</td>\n",
       "      <td>9</td>\n",
       "      <td>30</td>\n",
       "      <td>16</td>\n",
       "      <td>9</td>\n",
       "      <td>7</td>\n",
       "      <td>6</td>\n",
       "      <td>4</td>\n",
       "      <td>...</td>\n",
       "      <td>3.3333</td>\n",
       "      <td>1.7778</td>\n",
       "      <td>0.4375</td>\n",
       "      <td>0.7778</td>\n",
       "      <td>1.0000</td>\n",
       "      <td>0.6667</td>\n",
       "      <td>0.4444</td>\n",
       "      <td>0.2500</td>\n",
       "      <td>1.7778</td>\n",
       "      <td>1.0000</td>\n",
       "    </tr>\n",
       "  </tbody>\n",
       "</table>\n",
       "<p>10 rows × 25 columns</p>\n",
       "</div>"
      ],
      "text/plain": [
       "                                  altered_text_clean  \\\n",
       "0  Most people start the day by getting out of be...   \n",
       "1  Most people start the day by waking up in the ...   \n",
       "2  Most people start the day by getting up and go...   \n",
       "3  Most people start the day by eating breakfast ...   \n",
       "4  Most people start the day by getting up and go...   \n",
       "5  Most people start the day by getting up and go...   \n",
       "6  Most people start the day by getting up and go...   \n",
       "7  Most people start the day by getting up and do...   \n",
       "8  Most people start the day by getting up and mo...   \n",
       "9  Most people start the day by getting up and go...   \n",
       "\n",
       "                                     Filename    W   S  VP   C   T  DC  CT  \\\n",
       "0  /tmp/neosca_batch_0_z96qljxq/doc_00001.txt  162  13  25  18  12   6   3   \n",
       "1  /tmp/neosca_batch_0_z96qljxq/doc_00002.txt  161  12  31  19  12   8   4   \n",
       "2  /tmp/neosca_batch_0_z96qljxq/doc_00003.txt  172  11  27  17  11   7   5   \n",
       "3  /tmp/neosca_batch_0_z96qljxq/doc_00004.txt  165   9  18  14   9   4   3   \n",
       "4  /tmp/neosca_batch_0_z96qljxq/doc_00005.txt  181   6  25  17   6   9   3   \n",
       "5  /tmp/neosca_batch_1_w1g8d2dl/doc_00001.txt  162  14  27  16  14   5   4   \n",
       "6  /tmp/neosca_batch_1_w1g8d2dl/doc_00002.txt  170  14  35  21  15   7   5   \n",
       "7  /tmp/neosca_batch_1_w1g8d2dl/doc_00003.txt  174   9  27  12   9   4   3   \n",
       "8  /tmp/neosca_batch_1_w1g8d2dl/doc_00004.txt  166  11  33  16  12   5   3   \n",
       "9  /tmp/neosca_batch_1_w1g8d2dl/doc_00005.txt  171   9  30  16   9   7   6   \n",
       "\n",
       "   CP  ...    VP/T     C/T    DC/C    DC/T     T/S    CT/T    CP/T    CP/C  \\\n",
       "0   5  ...  2.0833  1.5000  0.3333  0.5000  0.9231  0.2500  0.4167  0.2778   \n",
       "1   2  ...  2.5833  1.5833  0.4211  0.6667  1.0000  0.3333  0.1667  0.1053   \n",
       "2   3  ...  2.4545  1.5455  0.4118  0.6364  1.0000  0.4545  0.2727  0.1765   \n",
       "3   5  ...  2.0000  1.5556  0.2857  0.4444  1.0000  0.3333  0.5556  0.3571   \n",
       "4   6  ...  4.1667  2.8333  0.5294  1.5000  1.0000  0.5000  1.0000  0.3529   \n",
       "5   5  ...  1.9286  1.1429  0.3125  0.3571  1.0000  0.2857  0.3571  0.3125   \n",
       "6   2  ...  2.3333  1.4000  0.3333  0.4667  1.0714  0.3333  0.1333  0.0952   \n",
       "7   5  ...  3.0000  1.3333  0.3333  0.4444  1.0000  0.3333  0.5556  0.4167   \n",
       "8   3  ...  2.7500  1.3333  0.3125  0.4167  1.0909  0.2500  0.2500  0.1875   \n",
       "9   4  ...  3.3333  1.7778  0.4375  0.7778  1.0000  0.6667  0.4444  0.2500   \n",
       "\n",
       "     CN/T    CN/C  \n",
       "0  1.0833  0.7222  \n",
       "1  1.3333  0.8421  \n",
       "2  1.4545  0.9412  \n",
       "3  1.2222  0.7857  \n",
       "4  3.0000  1.0588  \n",
       "5  0.5714  0.5000  \n",
       "6  0.6667  0.4762  \n",
       "7  1.6667  1.2500  \n",
       "8  1.0833  0.8125  \n",
       "9  1.7778  1.0000  \n",
       "\n",
       "[10 rows x 25 columns]"
      ]
     },
     "execution_count": 59,
     "metadata": {},
     "output_type": "execute_result"
    }
   ],
   "source": [
    "results"
   ]
  },
  {
   "cell_type": "code",
   "execution_count": 56,
   "id": "f39af723",
   "metadata": {},
   "outputs": [
    {
     "data": {
      "text/plain": [
       "Index(['altered_text_clean', 'Filename', 'W', 'S', 'VP', 'C', 'T', 'DC', 'CT',\n",
       "       'CP', 'CN', 'MLS', 'MLT', 'MLC', 'C/S', 'VP/T', 'C/T', 'DC/C', 'DC/T',\n",
       "       'T/S', 'CT/T', 'CP/T', 'CP/C', 'CN/T', 'CN/C'],\n",
       "      dtype='object')"
      ]
     },
     "execution_count": 56,
     "metadata": {},
     "output_type": "execute_result"
    }
   ],
   "source": [
    "results.columns"
   ]
  },
  {
   "cell_type": "code",
   "execution_count": 13,
   "id": "f1bb5ab9",
   "metadata": {},
   "outputs": [],
   "source": [
    "import subprocess\n",
    "import shlex\n",
    "import io\n",
    "import pandas as pd\n",
    "\n",
    "def run_neosca(text: str) -> pd.DataFrame:\n",
    "    \"\"\"\n",
    "    Run NeoSCA syntactic complexity analyzer on a single text.\n",
    "    \n",
    "    Parameters\n",
    "    ----------\n",
    "    text : str\n",
    "        The input text to analyze.\n",
    "\n",
    "    Returns\n",
    "    -------\n",
    "    pd.DataFrame\n",
    "        A DataFrame containing:\n",
    "        - 'text': original text\n",
    "        - NeoSCA syntactic complexity indices:\n",
    "            MLS : Mean length of sentence (words per sentence)\n",
    "            MLT : Mean length of T-unit (words per T-unit)\n",
    "            MLC : Mean length of clause (words per clause)\n",
    "            S   : Number of sentences\n",
    "            W   : Number of words\n",
    "            VP  : Number of verb phrases\n",
    "            C   : Number of clauses\n",
    "            T   : Number of T-units\n",
    "            DC  : Number of dependent clauses\n",
    "            CT  : Number of complex T-units\n",
    "            CP  : Number of coordinated phrases\n",
    "            CN  : Number of complex nominals\n",
    "            C/S : Clauses per sentence\n",
    "            VP/T: Verb phrases per T-unit\n",
    "            C/T : Clauses per T-unit\n",
    "            DC/C: Dependent clauses per clause\n",
    "            DC/T: Dependent clauses per T-unit\n",
    "            T/S : T-units per sentence\n",
    "            CT/T: Complex T-units per T-unit\n",
    "            CP/T: Coordinated phrases per T-unit\n",
    "            CP/C: Coordinated phrases per clause\n",
    "            CN/T: Complex nominals per T-unit\n",
    "            CN/C: Complex nominals per clause\n",
    "    \"\"\"\n",
    "    cmd = f'nsca --text {shlex.quote(text)} --stdout --output-format csv'\n",
    "    result = subprocess.run(cmd, shell=True, capture_output=True, text=True, check=True)\n",
    "    df = pd.read_csv(io.StringIO(result.stdout))\n",
    "    df.insert(0, \"text\", text)  # Add original text for reference\n",
    "    return df\n",
    "\n",
    "\n",
    "def add_domain_scores(df: pd.DataFrame) -> pd.DataFrame:\n",
    "    \"\"\"\n",
    "    Add domain-level scores by grouping the 14 Lu indices into four domains:\n",
    "        - Length (MLS, MLT, MLC)\n",
    "        - Global complexity (T/S, C/S)\n",
    "        - Clausal/Local complexity (C/T, DC/C, DC/T, CT/T)\n",
    "        - Phrasal/Coordination (CP/T, CP/C, CN/T, CN/C)\n",
    "    \n",
    "    Parameters\n",
    "    ----------\n",
    "    df : pd.DataFrame\n",
    "        DataFrame containing the NeoSCA columns.\n",
    "\n",
    "    Returns\n",
    "    -------\n",
    "    pd.DataFrame\n",
    "        DataFrame with additional columns: Length, Global, Clausal, Phrasal.\n",
    "    \"\"\"\n",
    "    df = df.copy()\n",
    "    df[\"Length\"] = df[[\"MLS\", \"MLT\", \"MLC\"]].mean(axis=1)\n",
    "    df[\"Global\"] = df[[\"T/S\",\"C/S\"]].mean(axis=1)\n",
    "    df[\"Clausal\"] = df[[\"C/T\",\"DC/C\",\"DC/T\",\"CT/T\"]].mean(axis=1)\n",
    "    df[\"Phrasal\"] = df[[\"CP/T\",\"CP/C\",\"CN/T\",\"CN/C\"]].mean(axis=1)\n",
    "    return df\n",
    "\n",
    "\n",
    "def add_syntactic_complexity_features(df: pd.DataFrame, text_column: str) -> pd.DataFrame:\n",
    "    \"\"\"\n",
    "    Add NeoSCA syntactic complexity features and domain-level scores to an existing DataFrame.\n",
    "    \n",
    "    Parameters\n",
    "    ----------\n",
    "    df : pd.DataFrame\n",
    "        The original DataFrame containing text data.\n",
    "    text_column : str\n",
    "        Name of the column in df containing text to analyze.\n",
    "\n",
    "    Returns\n",
    "    -------\n",
    "    pd.DataFrame\n",
    "        Original DataFrame with new columns for:\n",
    "        - NeoSCA 14 syntactic complexity indices\n",
    "        - Domain-level scores: Length, Global, Clausal, Phrasal\n",
    "    \"\"\"\n",
    "    results = []\n",
    "    for text in df[text_column]:\n",
    "        try:\n",
    "            neosca_df = run_neosca(text)\n",
    "            neosca_df = add_domain_scores(neosca_df)\n",
    "            results.append(neosca_df)\n",
    "        except subprocess.CalledProcessError as e:\n",
    "            print(f\"Error analyzing text: {text}\\n{e}\")\n",
    "            # Append a row of NaNs if error occurs\n",
    "            results.append(pd.DataFrame([{col: float('nan') for col in [\n",
    "                \"text\",\"MLS\",\"MLT\",\"MLC\",\"S\",\"W\",\"VP\",\"C\",\"T\",\"DC\",\"CT\",\"CP\",\"CN\",\n",
    "                \"C/S\",\"VP/T\",\"C/T\",\"DC/C\",\"DC/T\",\"T/S\",\"CT/T\",\"CP/T\",\"CP/C\",\"CN/T\",\"CN/C\",\n",
    "                \"Length\",\"Global\",\"Clausal\",\"Phrasal\"]}]))\n",
    "    \n",
    "    features_df = pd.concat(results, ignore_index=True)\n",
    "    # Merge back into original DataFrame\n",
    "    df = df.reset_index(drop=True)\n",
    "    merged_df = pd.concat([df, features_df.drop(columns=\"text\")], axis=1)\n",
    "    return merged_df\n",
    "\n",
    "\n",
    "\n",
    "    "
   ]
  },
  {
   "cell_type": "code",
   "execution_count": 14,
   "id": "d6eb8a7f",
   "metadata": {},
   "outputs": [
    {
     "data": {
      "text/plain": [
       "<bound method IndexOpsMixin.tolist of Index(['index', 'prompt', 'generated_text', 'model_name', 'temperature',\n",
       "       'num_beams', 'text', 'llm_model', 'paraphrase_model', 'altered_text',\n",
       "       ...\n",
       "       'pca_based_ci', 'lasso_based', 'lasso_based_std', 'lasso_based_ci',\n",
       "       'global_topic_structure', 'global_topic_structure_ci',\n",
       "       'local_topic_structure', 'local_topic_structure_ci',\n",
       "       'semantic_complexity', 'semantic_complexity_ci'],\n",
       "      dtype='object', length=191)>"
      ]
     },
     "execution_count": 14,
     "metadata": {},
     "output_type": "execute_result"
    }
   ],
   "source": [
    "dataset.columns.to_list"
   ]
  },
  {
   "cell_type": "code",
   "execution_count": 15,
   "id": "dd05fafd",
   "metadata": {},
   "outputs": [
    {
     "ename": "KeyboardInterrupt",
     "evalue": "",
     "output_type": "error",
     "traceback": [
      "\u001b[0;31m---------------------------------------------------------------------------\u001b[0m",
      "\u001b[0;31mKeyboardInterrupt\u001b[0m                         Traceback (most recent call last)",
      "Cell \u001b[0;32mIn[15], line 1\u001b[0m\n\u001b[0;32m----> 1\u001b[0m df_with_features \u001b[38;5;241m=\u001b[39m \u001b[43madd_syntactic_complexity_features\u001b[49m\u001b[43m(\u001b[49m\u001b[43mdataset\u001b[49m\u001b[43m,\u001b[49m\u001b[43m \u001b[49m\u001b[43mtext_column\u001b[49m\u001b[38;5;241;43m=\u001b[39;49m\u001b[38;5;124;43m\"\u001b[39;49m\u001b[38;5;124;43maltered_text\u001b[39;49m\u001b[38;5;124;43m\"\u001b[39;49m\u001b[43m)\u001b[49m\n",
      "Cell \u001b[0;32mIn[13], line 99\u001b[0m, in \u001b[0;36madd_syntactic_complexity_features\u001b[0;34m(df, text_column)\u001b[0m\n\u001b[1;32m     97\u001b[0m \u001b[38;5;28;01mfor\u001b[39;00m text \u001b[38;5;129;01min\u001b[39;00m df[text_column]:\n\u001b[1;32m     98\u001b[0m     \u001b[38;5;28;01mtry\u001b[39;00m:\n\u001b[0;32m---> 99\u001b[0m         neosca_df \u001b[38;5;241m=\u001b[39m \u001b[43mrun_neosca\u001b[49m\u001b[43m(\u001b[49m\u001b[43mtext\u001b[49m\u001b[43m)\u001b[49m\n\u001b[1;32m    100\u001b[0m         neosca_df \u001b[38;5;241m=\u001b[39m add_domain_scores(neosca_df)\n\u001b[1;32m    101\u001b[0m         results\u001b[38;5;241m.\u001b[39mappend(neosca_df)\n",
      "Cell \u001b[0;32mIn[13], line 46\u001b[0m, in \u001b[0;36mrun_neosca\u001b[0;34m(text)\u001b[0m\n\u001b[1;32m      7\u001b[0m \u001b[38;5;250m\u001b[39m\u001b[38;5;124;03m\"\"\"\u001b[39;00m\n\u001b[1;32m      8\u001b[0m \u001b[38;5;124;03mRun NeoSCA syntactic complexity analyzer on a single text.\u001b[39;00m\n\u001b[1;32m      9\u001b[0m \u001b[38;5;124;03m\u001b[39;00m\n\u001b[0;32m   (...)\u001b[0m\n\u001b[1;32m     43\u001b[0m \u001b[38;5;124;03m        CN/C: Complex nominals per clause\u001b[39;00m\n\u001b[1;32m     44\u001b[0m \u001b[38;5;124;03m\"\"\"\u001b[39;00m\n\u001b[1;32m     45\u001b[0m cmd \u001b[38;5;241m=\u001b[39m \u001b[38;5;124mf\u001b[39m\u001b[38;5;124m'\u001b[39m\u001b[38;5;124mnsca --text \u001b[39m\u001b[38;5;132;01m{\u001b[39;00mshlex\u001b[38;5;241m.\u001b[39mquote(text)\u001b[38;5;132;01m}\u001b[39;00m\u001b[38;5;124m --stdout --output-format csv\u001b[39m\u001b[38;5;124m'\u001b[39m\n\u001b[0;32m---> 46\u001b[0m result \u001b[38;5;241m=\u001b[39m \u001b[43msubprocess\u001b[49m\u001b[38;5;241;43m.\u001b[39;49m\u001b[43mrun\u001b[49m\u001b[43m(\u001b[49m\u001b[43mcmd\u001b[49m\u001b[43m,\u001b[49m\u001b[43m \u001b[49m\u001b[43mshell\u001b[49m\u001b[38;5;241;43m=\u001b[39;49m\u001b[38;5;28;43;01mTrue\u001b[39;49;00m\u001b[43m,\u001b[49m\u001b[43m \u001b[49m\u001b[43mcapture_output\u001b[49m\u001b[38;5;241;43m=\u001b[39;49m\u001b[38;5;28;43;01mTrue\u001b[39;49;00m\u001b[43m,\u001b[49m\u001b[43m \u001b[49m\u001b[43mtext\u001b[49m\u001b[38;5;241;43m=\u001b[39;49m\u001b[38;5;28;43;01mTrue\u001b[39;49;00m\u001b[43m,\u001b[49m\u001b[43m \u001b[49m\u001b[43mcheck\u001b[49m\u001b[38;5;241;43m=\u001b[39;49m\u001b[38;5;28;43;01mTrue\u001b[39;49;00m\u001b[43m)\u001b[49m\n\u001b[1;32m     47\u001b[0m df \u001b[38;5;241m=\u001b[39m pd\u001b[38;5;241m.\u001b[39mread_csv(io\u001b[38;5;241m.\u001b[39mStringIO(result\u001b[38;5;241m.\u001b[39mstdout))\n\u001b[1;32m     48\u001b[0m df\u001b[38;5;241m.\u001b[39minsert(\u001b[38;5;241m0\u001b[39m, \u001b[38;5;124m\"\u001b[39m\u001b[38;5;124mtext\u001b[39m\u001b[38;5;124m\"\u001b[39m, text)  \u001b[38;5;66;03m# Add original text for reference\u001b[39;00m\n",
      "File \u001b[0;32m/usr/lib/python3.9/subprocess.py:507\u001b[0m, in \u001b[0;36mrun\u001b[0;34m(input, capture_output, timeout, check, *popenargs, **kwargs)\u001b[0m\n\u001b[1;32m    505\u001b[0m \u001b[38;5;28;01mwith\u001b[39;00m Popen(\u001b[38;5;241m*\u001b[39mpopenargs, \u001b[38;5;241m*\u001b[39m\u001b[38;5;241m*\u001b[39mkwargs) \u001b[38;5;28;01mas\u001b[39;00m process:\n\u001b[1;32m    506\u001b[0m     \u001b[38;5;28;01mtry\u001b[39;00m:\n\u001b[0;32m--> 507\u001b[0m         stdout, stderr \u001b[38;5;241m=\u001b[39m \u001b[43mprocess\u001b[49m\u001b[38;5;241;43m.\u001b[39;49m\u001b[43mcommunicate\u001b[49m\u001b[43m(\u001b[49m\u001b[38;5;28;43minput\u001b[39;49m\u001b[43m,\u001b[49m\u001b[43m \u001b[49m\u001b[43mtimeout\u001b[49m\u001b[38;5;241;43m=\u001b[39;49m\u001b[43mtimeout\u001b[49m\u001b[43m)\u001b[49m\n\u001b[1;32m    508\u001b[0m     \u001b[38;5;28;01mexcept\u001b[39;00m TimeoutExpired \u001b[38;5;28;01mas\u001b[39;00m exc:\n\u001b[1;32m    509\u001b[0m         process\u001b[38;5;241m.\u001b[39mkill()\n",
      "File \u001b[0;32m/usr/lib/python3.9/subprocess.py:1134\u001b[0m, in \u001b[0;36mPopen.communicate\u001b[0;34m(self, input, timeout)\u001b[0m\n\u001b[1;32m   1131\u001b[0m     endtime \u001b[38;5;241m=\u001b[39m \u001b[38;5;28;01mNone\u001b[39;00m\n\u001b[1;32m   1133\u001b[0m \u001b[38;5;28;01mtry\u001b[39;00m:\n\u001b[0;32m-> 1134\u001b[0m     stdout, stderr \u001b[38;5;241m=\u001b[39m \u001b[38;5;28;43mself\u001b[39;49m\u001b[38;5;241;43m.\u001b[39;49m\u001b[43m_communicate\u001b[49m\u001b[43m(\u001b[49m\u001b[38;5;28;43minput\u001b[39;49m\u001b[43m,\u001b[49m\u001b[43m \u001b[49m\u001b[43mendtime\u001b[49m\u001b[43m,\u001b[49m\u001b[43m \u001b[49m\u001b[43mtimeout\u001b[49m\u001b[43m)\u001b[49m\n\u001b[1;32m   1135\u001b[0m \u001b[38;5;28;01mexcept\u001b[39;00m \u001b[38;5;167;01mKeyboardInterrupt\u001b[39;00m:\n\u001b[1;32m   1136\u001b[0m     \u001b[38;5;66;03m# https://bugs.python.org/issue25942\u001b[39;00m\n\u001b[1;32m   1137\u001b[0m     \u001b[38;5;66;03m# See the detailed comment in .wait().\u001b[39;00m\n\u001b[1;32m   1138\u001b[0m     \u001b[38;5;28;01mif\u001b[39;00m timeout \u001b[38;5;129;01mis\u001b[39;00m \u001b[38;5;129;01mnot\u001b[39;00m \u001b[38;5;28;01mNone\u001b[39;00m:\n",
      "File \u001b[0;32m/usr/lib/python3.9/subprocess.py:1995\u001b[0m, in \u001b[0;36mPopen._communicate\u001b[0;34m(self, input, endtime, orig_timeout)\u001b[0m\n\u001b[1;32m   1988\u001b[0m     \u001b[38;5;28mself\u001b[39m\u001b[38;5;241m.\u001b[39m_check_timeout(endtime, orig_timeout,\n\u001b[1;32m   1989\u001b[0m                         stdout, stderr,\n\u001b[1;32m   1990\u001b[0m                         skip_check_and_raise\u001b[38;5;241m=\u001b[39m\u001b[38;5;28;01mTrue\u001b[39;00m)\n\u001b[1;32m   1991\u001b[0m     \u001b[38;5;28;01mraise\u001b[39;00m \u001b[38;5;167;01mRuntimeError\u001b[39;00m(  \u001b[38;5;66;03m# Impossible :)\u001b[39;00m\n\u001b[1;32m   1992\u001b[0m         \u001b[38;5;124m'\u001b[39m\u001b[38;5;124m_check_timeout(..., skip_check_and_raise=True) \u001b[39m\u001b[38;5;124m'\u001b[39m\n\u001b[1;32m   1993\u001b[0m         \u001b[38;5;124m'\u001b[39m\u001b[38;5;124mfailed to raise TimeoutExpired.\u001b[39m\u001b[38;5;124m'\u001b[39m)\n\u001b[0;32m-> 1995\u001b[0m ready \u001b[38;5;241m=\u001b[39m \u001b[43mselector\u001b[49m\u001b[38;5;241;43m.\u001b[39;49m\u001b[43mselect\u001b[49m\u001b[43m(\u001b[49m\u001b[43mtimeout\u001b[49m\u001b[43m)\u001b[49m\n\u001b[1;32m   1996\u001b[0m \u001b[38;5;28mself\u001b[39m\u001b[38;5;241m.\u001b[39m_check_timeout(endtime, orig_timeout, stdout, stderr)\n\u001b[1;32m   1998\u001b[0m \u001b[38;5;66;03m# XXX Rewrite these to use non-blocking I/O on the file\u001b[39;00m\n\u001b[1;32m   1999\u001b[0m \u001b[38;5;66;03m# objects; they are no longer using C stdio!\u001b[39;00m\n",
      "File \u001b[0;32m/usr/lib/python3.9/selectors.py:416\u001b[0m, in \u001b[0;36m_PollLikeSelector.select\u001b[0;34m(self, timeout)\u001b[0m\n\u001b[1;32m    414\u001b[0m ready \u001b[38;5;241m=\u001b[39m []\n\u001b[1;32m    415\u001b[0m \u001b[38;5;28;01mtry\u001b[39;00m:\n\u001b[0;32m--> 416\u001b[0m     fd_event_list \u001b[38;5;241m=\u001b[39m \u001b[38;5;28;43mself\u001b[39;49m\u001b[38;5;241;43m.\u001b[39;49m\u001b[43m_selector\u001b[49m\u001b[38;5;241;43m.\u001b[39;49m\u001b[43mpoll\u001b[49m\u001b[43m(\u001b[49m\u001b[43mtimeout\u001b[49m\u001b[43m)\u001b[49m\n\u001b[1;32m    417\u001b[0m \u001b[38;5;28;01mexcept\u001b[39;00m \u001b[38;5;167;01mInterruptedError\u001b[39;00m:\n\u001b[1;32m    418\u001b[0m     \u001b[38;5;28;01mreturn\u001b[39;00m ready\n",
      "\u001b[0;31mKeyboardInterrupt\u001b[0m: "
     ]
    }
   ],
   "source": [
    "\n",
    "df_with_features = add_syntactic_complexity_features(dataset, text_column=\"altered_text\")"
   ]
  },
  {
   "cell_type": "code",
   "execution_count": null,
   "id": "8b9c5191",
   "metadata": {},
   "outputs": [],
   "source": []
  },
  {
   "cell_type": "code",
   "execution_count": null,
   "id": "c2847d41",
   "metadata": {},
   "outputs": [],
   "source": [
    "import textdescriptives as td\n",
    "\n",
    "texts = [\n",
    "    \"The quick brown fox jumps over the lazy dog.\",\n",
    "    \"This sentence contains a subordinate clause, which makes it longer.\"\n",
    "]\n",
    "# Extract all metrics for a list of texts (English).\n",
    "df = td.extract_metrics(text=texts, lang=\"en\", metrics=None)\n",
    "\n",
    "# Show a few syntactic complexity columns\n",
    "print(df[['dependency_distance_mean','token_length_mean']])"
   ]
  },
  {
   "cell_type": "code",
   "execution_count": 9,
   "id": "d11911a4",
   "metadata": {},
   "outputs": [
    {
     "data": {
      "text/html": [
       "<div>\n",
       "<style scoped>\n",
       "    .dataframe tbody tr th:only-of-type {\n",
       "        vertical-align: middle;\n",
       "    }\n",
       "\n",
       "    .dataframe tbody tr th {\n",
       "        vertical-align: top;\n",
       "    }\n",
       "\n",
       "    .dataframe thead th {\n",
       "        text-align: right;\n",
       "    }\n",
       "</style>\n",
       "<table border=\"1\" class=\"dataframe\">\n",
       "  <thead>\n",
       "    <tr style=\"text-align: right;\">\n",
       "      <th></th>\n",
       "      <th>id</th>\n",
       "      <th>text</th>\n",
       "      <th>Filename</th>\n",
       "      <th>W</th>\n",
       "      <th>S</th>\n",
       "      <th>VP</th>\n",
       "      <th>C</th>\n",
       "      <th>T</th>\n",
       "      <th>DC</th>\n",
       "      <th>CT</th>\n",
       "      <th>...</th>\n",
       "      <th>T/S</th>\n",
       "      <th>CT/T</th>\n",
       "      <th>CP/T</th>\n",
       "      <th>CP/C</th>\n",
       "      <th>CN/T</th>\n",
       "      <th>CN/C</th>\n",
       "      <th>Length</th>\n",
       "      <th>Global</th>\n",
       "      <th>Clausal</th>\n",
       "      <th>Phrasal</th>\n",
       "    </tr>\n",
       "  </thead>\n",
       "  <tbody>\n",
       "    <tr>\n",
       "      <th>0</th>\n",
       "      <td>1</td>\n",
       "      <td>The quick brown fox jumps over the lazy dog.</td>\n",
       "      <td>cmdline_text</td>\n",
       "      <td>9</td>\n",
       "      <td>1</td>\n",
       "      <td>1</td>\n",
       "      <td>1</td>\n",
       "      <td>1</td>\n",
       "      <td>0</td>\n",
       "      <td>0</td>\n",
       "      <td>...</td>\n",
       "      <td>1.0</td>\n",
       "      <td>0.0</td>\n",
       "      <td>0.0</td>\n",
       "      <td>0.0</td>\n",
       "      <td>2.0</td>\n",
       "      <td>2.0</td>\n",
       "      <td>9.000000</td>\n",
       "      <td>1.0</td>\n",
       "      <td>0.250</td>\n",
       "      <td>1.000</td>\n",
       "    </tr>\n",
       "    <tr>\n",
       "      <th>1</th>\n",
       "      <td>2</td>\n",
       "      <td>This sentence contains a subordinate clause, w...</td>\n",
       "      <td>cmdline_text</td>\n",
       "      <td>10</td>\n",
       "      <td>1</td>\n",
       "      <td>2</td>\n",
       "      <td>2</td>\n",
       "      <td>1</td>\n",
       "      <td>1</td>\n",
       "      <td>1</td>\n",
       "      <td>...</td>\n",
       "      <td>1.0</td>\n",
       "      <td>1.0</td>\n",
       "      <td>0.0</td>\n",
       "      <td>0.0</td>\n",
       "      <td>1.0</td>\n",
       "      <td>0.5</td>\n",
       "      <td>8.333333</td>\n",
       "      <td>1.5</td>\n",
       "      <td>1.125</td>\n",
       "      <td>0.375</td>\n",
       "    </tr>\n",
       "  </tbody>\n",
       "</table>\n",
       "<p>2 rows × 30 columns</p>\n",
       "</div>"
      ],
      "text/plain": [
       "   id                                               text      Filename   W  S  \\\n",
       "0   1       The quick brown fox jumps over the lazy dog.  cmdline_text   9  1   \n",
       "1   2  This sentence contains a subordinate clause, w...  cmdline_text  10  1   \n",
       "\n",
       "   VP  C  T  DC  CT  ...  T/S  CT/T  CP/T  CP/C  CN/T  CN/C    Length  Global  \\\n",
       "0   1  1  1   0   0  ...  1.0   0.0   0.0   0.0   2.0   2.0  9.000000     1.0   \n",
       "1   2  2  1   1   1  ...  1.0   1.0   0.0   0.0   1.0   0.5  8.333333     1.5   \n",
       "\n",
       "   Clausal  Phrasal  \n",
       "0    0.250    1.000  \n",
       "1    1.125    0.375  \n",
       "\n",
       "[2 rows x 30 columns]"
      ]
     },
     "execution_count": 9,
     "metadata": {},
     "output_type": "execute_result"
    }
   ],
   "source": [
    "df_with_features"
   ]
  }
 ],
 "metadata": {
  "kernelspec": {
   "display_name": "paraphrase",
   "language": "python",
   "name": "python3"
  },
  "language_info": {
   "codemirror_mode": {
    "name": "ipython",
    "version": 3
   },
   "file_extension": ".py",
   "mimetype": "text/x-python",
   "name": "python",
   "nbconvert_exporter": "python",
   "pygments_lexer": "ipython3",
   "version": "3.9.23"
  }
 },
 "nbformat": 4,
 "nbformat_minor": 5
}
